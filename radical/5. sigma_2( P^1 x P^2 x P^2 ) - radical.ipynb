{
 "cells": [
  {
   "cell_type": "code",
   "execution_count": 1,
   "metadata": {},
   "outputs": [],
   "source": [
    "import numpy as np\n",
    "from sparse_vector import *\n",
    "from vector_polynomial_isomorphism import *"
   ]
  },
  {
   "cell_type": "markdown",
   "metadata": {},
   "source": [
    "We note that we are using the base field `QQ` for all computations currently"
   ]
  },
  {
   "cell_type": "code",
   "execution_count": 2,
   "metadata": {
    "scrolled": false
   },
   "outputs": [
    {
     "name": "stdout",
     "output_type": "stream",
     "text": [
      "Defining x_000, x_001, x_002, x_010, x_011, x_012, x_020, x_021, x_022, x_100, x_101, x_102, x_110, x_111, x_112, x_120, x_121, x_122\n"
     ]
    }
   ],
   "source": [
    "# Let us initialize constants and vector spaces.\n",
    "\n",
    "N = 18\n",
    "d = 3\n",
    "indeterminates = [var(\"\".join([\"x_\", str(i), str(j), str(k)])) for i in range(2) for j in range(3) for k in range(3)]\n",
    "R = PolynomialRing(QQ, indeterminates)\n",
    "R.inject_variables()\n",
    "\n",
    "glN = MatrixSpace(QQ, N)\n",
    "dimV = binomial(N + d - 1, d)\n",
    "V = VectorSpace(QQ, dimV)\n",
    "\n",
    "vp_iso = vector_polynomial_isomorphism(R, V, indeterminates, d)"
   ]
  },
  {
   "cell_type": "code",
   "execution_count": 3,
   "metadata": {},
   "outputs": [],
   "source": [
    "# construct f\n",
    "\n",
    "M_6by3 = MatrixSpace(R, 6, 3)\n",
    "M_9by2 = MatrixSpace(R, 9, 2)\n",
    "\n",
    "x_sub = lambda i,j,k: R(var(\"\".join([\"x_\", str(i), str(j), str(k)])))\n",
    "\n",
    "A_12 = M_6by3(0)\n",
    "A_13 = M_6by3(0)\n",
    "A_23 = M_9by2(0)\n",
    "\n",
    "for i in range(2):\n",
    "    for j in range(3):\n",
    "        for k in range(3):\n",
    "            A_12[3*i + j, k] = x_sub(i,j,k)\n",
    "            A_13[3*i + k, j] = x_sub(i,j,k)\n",
    "            A_23[3*j + k, i] = x_sub(i,j,k)\n",
    "\n",
    "f = A_12.minors(3) + A_23.minors(3) + A_13.minors(3)\n",
    "I = R.ideal(f)\n",
    "I2 = I.radical()\n",
    "\n",
    "h_vec = [vp_iso.polynomial_to_vector(fi) for fi in I2.groebner_basis()]"
   ]
  },
  {
   "cell_type": "code",
   "execution_count": 4,
   "metadata": {},
   "outputs": [
    {
     "name": "stdout",
     "output_type": "stream",
     "text": [
      "Vector space of degree 1140 and dimension 36 over Rational Field\n",
      "Basis matrix:\n",
      "36 x 1140 dense matrix over Rational Field\n",
      "Vector space of degree 1140 and dimension 1104 over Rational Field\n",
      "Basis matrix:\n",
      "1104 x 1140 dense matrix over Rational Field\n"
     ]
    }
   ],
   "source": [
    "# define W = span{f}, W_perp = orthogonal complement of span{f}\n",
    "\n",
    "W = V.subspace(h_vec)\n",
    "\n",
    "f_vec_basis = W.basis() # take only the linearly independent ones\n",
    "grad_f = [vp_iso.vector_to_polynomial(fi).gradient() for fi in f_vec_basis]\n",
    "\n",
    "W_perp = W.complement()\n",
    "\n",
    "print(W)\n",
    "print(W_perp)\n",
    "\n",
    "g = W_perp.basis()\n",
    "p = W.dimension()\n",
    "q = W_perp.dimension()"
   ]
  },
  {
   "cell_type": "code",
   "execution_count": 5,
   "metadata": {
    "scrolled": false
   },
   "outputs": [],
   "source": [
    "# action of basis matrix E_ab in glN onto homogeneous polynomial f[i]\n",
    "def E_action(a, b, i):\n",
    "    sum = -1*indeterminates[b]*grad_f[i][a]\n",
    "    return R(sum)"
   ]
  },
  {
   "cell_type": "markdown",
   "metadata": {},
   "source": [
    "We note `M_f` $:= \\tilde{M}_f$"
   ]
  },
  {
   "cell_type": "code",
   "execution_count": 6,
   "metadata": {
    "scrolled": true
   },
   "outputs": [],
   "source": [
    "# Pre-processing memoization of entries of M_f\n",
    "\n",
    "# E_action_f[l][i][j] = (E_ij)(f_l)\n",
    "E_action_f = [[[0 for j in range(N)] for i in range(N)] for l in range(p)]\n",
    "for l in range(p):\n",
    "    for i in range(N):\n",
    "        for j in range(N):\n",
    "            E_action_f[l][i][j] = sparsify(vp_iso.polynomial_to_vector(E_action(i,j,l)))\n",
    "\n",
    "# convert g to sparse representation\n",
    "g_sparse = [sparsify(g[i]) for i in range(q)]"
   ]
  },
  {
   "cell_type": "code",
   "execution_count": 7,
   "metadata": {},
   "outputs": [],
   "source": [
    "# Construct M_f\n",
    "M_f = zero_matrix(QQ, p*q, N^2)\n",
    "for l in range(p):\n",
    "    for k in range(q):\n",
    "        for i in range(N):\n",
    "            for j in range(N):\n",
    "                M_f[(p*l) + k,(N*i) + j] = sparse_inner_product(E_action_f[l][i][j], g_sparse[k])"
   ]
  },
  {
   "cell_type": "code",
   "execution_count": 8,
   "metadata": {},
   "outputs": [
    {
     "name": "stdout",
     "output_type": "stream",
     "text": [
      "rank(M_f) = 142\n",
      "dim(ker(M_f)) = 182\n"
     ]
    }
   ],
   "source": [
    "print('rank(M_f) =', M_f.rank())\n",
    "print('dim(ker(M_f)) =', glN.dimension() - M_f.rank())"
   ]
  },
  {
   "cell_type": "code",
   "execution_count": 9,
   "metadata": {},
   "outputs": [
    {
     "name": "stdout",
     "output_type": "stream",
     "text": [
      "20\n"
     ]
    }
   ],
   "source": [
    "print((2^2 - 1) + (3^2 - 1) + (3^2 - 1) +1)"
   ]
  },
  {
   "cell_type": "code",
   "execution_count": null,
   "metadata": {},
   "outputs": [],
   "source": []
  }
 ],
 "metadata": {
  "kernelspec": {
   "display_name": "SageMath 9.2",
   "language": "sage",
   "name": "sagemath"
  },
  "language_info": {
   "codemirror_mode": {
    "name": "ipython",
    "version": 3
   },
   "file_extension": ".py",
   "mimetype": "text/x-python",
   "name": "python",
   "nbconvert_exporter": "python",
   "pygments_lexer": "ipython3",
   "version": "3.7.7"
  }
 },
 "nbformat": 4,
 "nbformat_minor": 4
}
