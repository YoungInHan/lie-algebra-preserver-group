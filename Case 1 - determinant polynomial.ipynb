{
 "cells": [
  {
   "cell_type": "markdown",
   "metadata": {},
   "source": [
    "Let us consider the space of homogeneous polynomials $\\mathbb{C}[y_{11}, y_{12}, y_{21}, y_{22}]^2$. We set:\n",
    "\n",
    "\n",
    "\\begin{align}\n",
    "X & = \\{\\text{rank 1 matrices in } \\mathbb{C}^2 \\otimes \\mathbb{C}^2\\} \\\\\n",
    "& = \\mathbb{V}(y_{11}y_{22} - y_{21}, y_{12})\\\\\n",
    "& = \\mathbb{V}(f)\\\\\n",
    "\\end{align}\n",
    "\n",
    "Then $\\mathfrak{g}_X = \\{ X \\in \\mathfrak{gl}_4 : Xf \\in \\langle f \\rangle \\}$"
   ]
  },
  {
   "cell_type": "code",
   "execution_count": 42,
   "metadata": {
    "scrolled": false
   },
   "outputs": [
    {
     "name": "stdout",
     "output_type": "stream",
     "text": [
      "Defining y_11, y_12, y_21, y_22\n"
     ]
    },
    {
     "data": {
      "text/plain": [
       "Vector space of dimension 10 over Complex Field with 53 bits of precision"
      ]
     },
     "execution_count": 42,
     "metadata": {},
     "output_type": "execute_result"
    }
   ],
   "source": [
    "N = 2\n",
    "d = 2\n",
    "indeterminates = [var(\"y_%d%d\" % ((i+1),(j+1))) for i in range(N) for j in range(N)]\n",
    "R = PolynomialRing(CC, indeterminates)\n",
    "R.inject_variables()\n",
    "\n",
    "V = VectorSpace(CC, binomial(N^2 + d - 1, d)); V"
   ]
  },
  {
   "cell_type": "markdown",
   "metadata": {},
   "source": [
    "X_action: $\\mathfrak{gl}_4 \\times \\mathbb{C}[y_{11}, y_{12}, y_{21}, y_{22}]^2 \\rightarrow \\mathbb{C}[y_{11}, y_{12}, y_{21}, y_{22}]^2 $"
   ]
  },
  {
   "cell_type": "code",
   "execution_count": 43,
   "metadata": {
    "scrolled": false
   },
   "outputs": [],
   "source": [
    "def X_action(X, p):\n",
    "    grad_p = p.gradient()\n",
    "    sum = 0\n",
    "    for a in range(N):\n",
    "        for b in range(N):\n",
    "            sum += -X[a][b]*var('y_'+str(b))*grad_p[a]\n",
    "    return sum           "
   ]
  },
  {
   "cell_type": "code",
   "execution_count": 44,
   "metadata": {
    "scrolled": true
   },
   "outputs": [],
   "source": [
    "## gives \"the\" ordering of the degree d monomials in R to allow for a natural correspondence with coefficient vectors\n",
    "symmfuncs = SymmetricFunctions(CC).h()\n",
    "sum_of_monomials = symmfuncs([d]).expand(N^2, alphabet=indeterminates) \n",
    "\n",
    "def polynomial_to_vector(p):\n",
    "    if not p in R:\n",
    "        return 0\n",
    "    F = Sequence([sum_of_monomials, p])\n",
    "    A,v = F.coefficient_matrix()\n",
    "    return A[1]\n",
    "\n",
    "def vector_to_polynomial(v):\n",
    "    if not v in V:\n",
    "        return 0\n",
    "    p = 0\n",
    "    for i, item in enumerate(Sequence(sum_of_monomials)):\n",
    "        p += v[i]*item[1]\n",
    "    return p"
   ]
  },
  {
   "cell_type": "code",
   "execution_count": 45,
   "metadata": {},
   "outputs": [],
   "source": [
    "def orthogonal_complement(space):\n",
    "    if space.dimension()==0:\n",
    "        return space.ambient_vector_space()\n",
    "    else:\n",
    "        return space.basis_matrix().right_kernel()"
   ]
  },
  {
   "cell_type": "code",
   "execution_count": 46,
   "metadata": {},
   "outputs": [],
   "source": [
    "def polynomial_inner_product(f,g):\n",
    "    return polynomial_to_vector(f).inner_product(polynomial_to_vector(g))"
   ]
  },
  {
   "cell_type": "code",
   "execution_count": 47,
   "metadata": {},
   "outputs": [],
   "source": [
    "## the polynomials f_1,...,f_n; in this case only one\n",
    "f = [y_11*y_22 - y_21*y_12]\n",
    "\n",
    "W = V.subspace([Polynomial_to_Vector(fi) for fi in f])\n",
    "W_perp = orthogonal_complement(W)\n",
    "\n",
    "g = W_perp.basis_matrix()\n",
    "\n",
    "p = W.dimension()\n",
    "q = W_perp.dimension()\n"
   ]
  },
  {
   "cell_type": "code",
   "execution_count": null,
   "metadata": {},
   "outputs": [],
   "source": [
    "\n",
    "    "
   ]
  },
  {
   "cell_type": "code",
   "execution_count": null,
   "metadata": {},
   "outputs": [],
   "source": []
  }
 ],
 "metadata": {
  "kernelspec": {
   "display_name": "SageMath 9.2",
   "language": "sage",
   "name": "sagemath"
  },
  "language_info": {
   "codemirror_mode": {
    "name": "ipython",
    "version": 3
   },
   "file_extension": ".py",
   "mimetype": "text/x-python",
   "name": "python",
   "nbconvert_exporter": "python",
   "pygments_lexer": "ipython3",
   "version": "3.7.7"
  }
 },
 "nbformat": 4,
 "nbformat_minor": 4
}
