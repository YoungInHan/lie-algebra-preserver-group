{
 "cells": [
  {
   "cell_type": "markdown",
   "metadata": {},
   "source": [
    "Let us consider the space of homogeneous polynomials $\\mathbb{C}[y_{11}, y_{12}, y_{21}, y_{22}]^2$. We set:\n",
    "\n",
    "\n",
    "\\begin{align}\n",
    "X & = \\{\\text{rank 1 matrices in } \\mathbb{C}^2 \\otimes \\mathbb{C}^2\\} \\\\\n",
    "& = \\mathbb{V}(y_{11}y_{22} - y_{21}, y_{12})\\\\\n",
    "& = \\mathbb{V}(f)\\\\\n",
    "\\end{align}\n",
    "\n",
    "Then $\\mathfrak{g}_X = \\{ X \\in \\mathfrak{gl}_4 : Xf \\in \\langle f \\rangle \\}$"
   ]
  },
  {
   "cell_type": "code",
   "execution_count": 269,
   "metadata": {
    "scrolled": false
   },
   "outputs": [
    {
     "name": "stdout",
     "output_type": "stream",
     "text": [
      "Defining y_11, y_12, y_21, y_22\n"
     ]
    }
   ],
   "source": [
    "N = 4\n",
    "d = 2\n",
    "indeterminates = [var(\"y_%d%d\" % ((i+1),(j+1))) for i in range(sqrt(N)) for j in range(sqrt(N))]\n",
    "R = PolynomialRing(QQ, indeterminates)\n",
    "R.inject_variables()\n",
    "\n",
    "V = VectorSpace(QQ, binomial(N + d - 1, d))\n",
    "glN = MatrixSpace(QQ, N)"
   ]
  },
  {
   "cell_type": "code",
   "execution_count": 286,
   "metadata": {
    "scrolled": false
   },
   "outputs": [],
   "source": [
    "def X_action(X, p):\n",
    "    grad_p = p.gradient()\n",
    "    sum = 0\n",
    "    for a in range(N):\n",
    "        for b in range(N):\n",
    "            sum += -X[a][b]*indeterminates[b]*grad_p[a]\n",
    "    return R(sum)"
   ]
  },
  {
   "cell_type": "code",
   "execution_count": 287,
   "metadata": {
    "scrolled": true
   },
   "outputs": [],
   "source": [
    "## gives \"the\" ordering of the degree d monomials in R to allow for a natural correspondence with coefficient vectors\n",
    "symmfuncs = SymmetricFunctions(QQ).h()\n",
    "monomials = symmfuncs([d]).expand(N, alphabet=indeterminates).monomials()\n",
    "\n",
    "def polynomial_to_vector(p):\n",
    "    if not p in R:\n",
    "        return 0\n",
    "    coefficient_list = []\n",
    "    for i in range(len(monomials)):\n",
    "        coefficient_list.append(p.monomial_coefficient(monomials[i]))\n",
    "    return V(coefficient_list)\n",
    "\n",
    "def vector_to_polynomial(v):\n",
    "    if not v in V:\n",
    "        return 0\n",
    "    p = 0\n",
    "    for i, item in enumerate(Sequence(monomials)):\n",
    "        p += v[i]*item\n",
    "    return R(p)"
   ]
  },
  {
   "cell_type": "code",
   "execution_count": 288,
   "metadata": {},
   "outputs": [],
   "source": [
    "def polynomial_inner_product(f,g):\n",
    "    return polynomial_to_vector(f).inner_product(polynomial_to_vector(g))"
   ]
  },
  {
   "cell_type": "code",
   "execution_count": 292,
   "metadata": {},
   "outputs": [
    {
     "name": "stdout",
     "output_type": "stream",
     "text": [
      "Vector space of degree 10 and dimension 1 over Rational Field\n",
      "Basis matrix:\n",
      "[ 0  0  0  0  1  0 -1  0  0  0]\n",
      "Vector space of degree 10 and dimension 9 over Rational Field\n",
      "Basis matrix:\n",
      "[1 0 0 0 0 0 0 0 0 0]\n",
      "[0 1 0 0 0 0 0 0 0 0]\n",
      "[0 0 1 0 0 0 0 0 0 0]\n",
      "[0 0 0 1 0 0 0 0 0 0]\n",
      "[0 0 0 0 1 0 1 0 0 0]\n",
      "[0 0 0 0 0 1 0 0 0 0]\n",
      "[0 0 0 0 0 0 0 1 0 0]\n",
      "[0 0 0 0 0 0 0 0 1 0]\n",
      "[0 0 0 0 0 0 0 0 0 1]\n"
     ]
    }
   ],
   "source": [
    "## the polynomials f_1,...,f_n; in this case only one\n",
    "f = [y_11*y_22- y_12*y_21]\n",
    "W = V.subspace([polynomial_to_vector(fi) for fi in f])\n",
    "W_perp = W.complement()\n",
    "print(W)\n",
    "print(W_perp)\n",
    "\n",
    "g = W_perp.basis_matrix()\n",
    "\n",
    "p = W.dimension()\n",
    "q = W_perp.dimension()"
   ]
  },
  {
   "cell_type": "code",
   "execution_count": 293,
   "metadata": {
    "scrolled": false
   },
   "outputs": [],
   "source": [
    "def Mtilde_f(X):\n",
    "    coefficient_list = []\n",
    "    for i in range(p):\n",
    "        X_fi = X_action(X,f[i])\n",
    "        for j in range(q):\n",
    "            coefficient_list.append(polynomial_to_vector(X_fi).inner_product(g[j]))\n",
    "    return coefficient_list"
   ]
  },
  {
   "cell_type": "code",
   "execution_count": 301,
   "metadata": {
    "scrolled": true
   },
   "outputs": [
    {
     "name": "stdout",
     "output_type": "stream",
     "text": [
      "[ 0  0  0  0  0  0  0  0  0  0  0  0 -1  0  0  0]\n",
      "[ 0  0  0  0  0  0  0  0  1  0  0  0  0 -1  0  0]\n",
      "[ 0  0  0  0  0  0  0  0  0  1  0  0  0  0  0  0]\n",
      "[ 0  0  0  0  1  0  0  0  0  0  0  0  0  0 -1  0]\n",
      "[-1  0  0  0  0  1  0  0  0  0  1  0  0  0  0 -1]\n",
      "[ 0  0  0  0  0  0  1  0  0  0  0  0  0  0  0  0]\n",
      "[ 0 -1  0  0  0  0  0  0  0  0  0  1  0  0  0  0]\n",
      "[ 0  0 -1  0  0  0  0  1  0  0  0  0  0  0  0  0]\n",
      "[ 0  0  0 -1  0  0  0  0  0  0  0  0  0  0  0  0]\n",
      "The dimension of the kernel of M_f =  7\n"
     ]
    }
   ],
   "source": [
    "def E(i,j):\n",
    "    return list(glN.basis())[(N*i) + j]\n",
    "\n",
    "E = lambda \n",
    "\n",
    "M_f = zero_matrix(QQ, p*q, N^2)\n",
    "\n",
    "for l in range(p):\n",
    "    for k in range(q):\n",
    "        for i in range(N):\n",
    "            for j in range(N):\n",
    "                M_f[(p*l) + k,(N*i) + j] = polynomial_to_vector(X_action(E(i,j),f[l])).inner_product(V(g[k]))\n",
    "            \n",
    "print(M_f)      \n",
    "print('The dimension of the kernel of M_f = ', glN.dimension() - M_f.rank())"
   ]
  },
  {
   "cell_type": "code",
   "execution_count": null,
   "metadata": {},
   "outputs": [],
   "source": []
  }
 ],
 "metadata": {
  "kernelspec": {
   "display_name": "SageMath 9.2",
   "language": "sage",
   "name": "sagemath"
  },
  "language_info": {
   "codemirror_mode": {
    "name": "ipython",
    "version": 3
   },
   "file_extension": ".py",
   "mimetype": "text/x-python",
   "name": "python",
   "nbconvert_exporter": "python",
   "pygments_lexer": "ipython3",
   "version": "3.7.7"
  }
 },
 "nbformat": 4,
 "nbformat_minor": 4
}
