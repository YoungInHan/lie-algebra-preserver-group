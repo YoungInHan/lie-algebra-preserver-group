{
 "cells": [
  {
   "cell_type": "markdown",
   "metadata": {},
   "source": [
    "## Action of $\\tilde{X} \\in \\tilde{\\mathfrak{gl}_N}$ on $\\mathbb{C} [x_1, \\ldots, x_N]^d$"
   ]
  },
  {
   "cell_type": "code",
   "execution_count": 3,
   "metadata": {
    "scrolled": false
   },
   "outputs": [
    {
     "name": "stdout",
     "output_type": "stream",
     "text": [
      "Defining x_0, x_1, x_2, x_3\n"
     ]
    }
   ],
   "source": [
    "N = 4 # N is an arbitrary natural number\n",
    "indeterminates = [var(\"x_%d\" % i) for i in range(N)]\n",
    "R = PolynomialRing(QQ, indeterminates)\n",
    "R.inject_variables()\n",
    "\n",
    "glN = MatrixSpace(QQ, N)\n"
   ]
  },
  {
   "cell_type": "code",
   "execution_count": 2,
   "metadata": {
    "scrolled": false
   },
   "outputs": [
    {
     "name": "stdout",
     "output_type": "stream",
     "text": [
      "-x_0*x_1*x_2*x_3\n",
      "0\n",
      "0\n",
      "0\n",
      "0\n",
      "-x_0*x_1*x_2*x_3\n",
      "0\n",
      "0\n",
      "0\n",
      "0\n",
      "-x_0*x_1*x_2*x_3\n",
      "0\n",
      "0\n",
      "0\n",
      "0\n",
      "-x_0*x_1*x_2*x_3\n"
     ]
    },
    {
     "data": {
      "text/plain": [
       "-4*x_0*x_1*x_2*x_3"
      ]
     },
     "execution_count": 2,
     "metadata": {},
     "output_type": "execute_result"
    }
   ],
   "source": [
    "poly = x_0*x_1*x_2*x_3\n",
    "X = M(1)\n",
    "\n",
    "def Xaction(X, f):\n",
    "    grad_f = f.gradient()\n",
    "    \n",
    "    sum = 0\n",
    "    for a in range(N):\n",
    "        for b in range(N):\n",
    "            print(-X[a][b]*var('x_'+str(b))*grad_f[a])\n",
    "            sum += -X[a][b]*var('x_'+str(b))*grad_f[a]\n",
    "    return sum\n",
    "            \n",
    "Xaction(X,poly)"
   ]
  },
  {
   "cell_type": "markdown",
   "metadata": {},
   "source": [
    "## Testing"
   ]
  },
  {
   "cell_type": "code",
   "execution_count": 10,
   "metadata": {
    "scrolled": true
   },
   "outputs": [
    {
     "data": {
      "text/plain": [
       "[                                  x_1*x_4 - 1/2*x_3*x_4 - 2*x_3                       4/3*x_2*x_3 + 3*x_3*x_4 - 3*x_3 - x_4 - 1        -x_1^2 + 1/22*x_0*x_3 + 53*x_2*x_3 - x_3^2 - 1/2*x_1*x_4         3/7*x_0*x_1 + 1/6*x_2^2 + 4*x_2*x_4 - 2/3*x_4^2 + 7*x_0                                  10*x_3^2 + 2*x_1*x_4 - 1/2*x_1]\n",
       "[                             -4/19*x_0*x_3 - 1/24*x_1 - 7/3*x_2                                 1/13*x_0*x_4 - 1/2*x_3 + 11*x_4                                    -1/2*x_2*x_3 + x_0 - 1/4*x_3                                 1/2*x_2*x_4 + x_3*x_4 + 2*x_4^2                            -x_0*x_1 + 24*x_1*x_2 - x_1*x_3 + 14]\n",
       "[-1/2*x_0*x_1 + 1/3*x_2^2 - 1/7*x_1*x_3 - x_1*x_4 - 1/94*x_3*x_4                                     1/3*x_0*x_1 - 5*x_2^2 + x_0                              x_1*x_2 - 1/131*x_3^2 - 6*x_4 - 13                                      -3*x_1*x_2 - 4*x_3^2 + 7/4                       x_0*x_1 - 3*x_1*x_2 - 2/13*x_4^2 - 35*x_2]\n",
       "[                 -5/3*x_1*x_2 - x_0*x_3 - 1/9*x_2*x_4 - 2/7*x_0  -1/9*x_1*x_2 - 19*x_0*x_3 + 2*x_0*x_4 + 1/22*x_2*x_4 - 1/2*x_0                         4/7*x_0*x_1 - 1/2*x_2^2 - x_4^2 + 2*x_2       8*x_0*x_1 + 1/2*x_0*x_2 + 1/2*x_2^2 + 3*x_0*x_3 + 1/3*x_3                    9/2*x_2^2 + 4/3*x_0*x_4 - 2*x_4^2 - 1/20*x_4]\n",
       "[                         -x_2*x_3 + x_3^2 - 2*x_3*x_4 + 1/8*x_3         -x_2^2 - 5/3*x_1*x_4 + 3*x_3*x_4 + 1/14*x_4^2 - 1/2*x_2                   x_0*x_1 - 1/4*x_1*x_4 - 1/12*x_3*x_4 - 10*x_2                                         x_1^2 + 2*x_1 - 1/6*x_3                  -4*x_0*x_1 + 1/2*x_1^2 - 3/2*x_3*x_4 + x_2 - 1]"
      ]
     },
     "execution_count": 10,
     "metadata": {},
     "output_type": "execute_result"
    }
   ],
   "source": []
  },
  {
   "cell_type": "code",
   "execution_count": 166,
   "metadata": {},
   "outputs": [],
   "source": []
  },
  {
   "cell_type": "code",
   "execution_count": null,
   "metadata": {},
   "outputs": [],
   "source": []
  }
 ],
 "metadata": {
  "kernelspec": {
   "display_name": "SageMath 9.2",
   "language": "sage",
   "name": "sagemath"
  },
  "language_info": {
   "codemirror_mode": {
    "name": "ipython",
    "version": 3
   },
   "file_extension": ".py",
   "mimetype": "text/x-python",
   "name": "python",
   "nbconvert_exporter": "python",
   "pygments_lexer": "ipython3",
   "version": "3.7.7"
  }
 },
 "nbformat": 4,
 "nbformat_minor": 4
}
