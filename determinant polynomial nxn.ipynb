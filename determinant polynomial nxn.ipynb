{
 "cells": [
  {
   "cell_type": "code",
   "execution_count": 51,
   "metadata": {},
   "outputs": [],
   "source": [
    "import numpy as np"
   ]
  },
  {
   "cell_type": "markdown",
   "metadata": {},
   "source": [
    "We note that we are using the base field `QQ` for all computations currently"
   ]
  },
  {
   "cell_type": "code",
   "execution_count": 52,
   "metadata": {
    "scrolled": false
   },
   "outputs": [
    {
     "name": "stdout",
     "output_type": "stream",
     "text": [
      "Defining y_11, y_12, y_13, y_14, y_21, y_22, y_23, y_24, y_31, y_32, y_33, y_34, y_41, y_42, y_43, y_44\n"
     ]
    }
   ],
   "source": [
    "# Let us initialize constants and vector spaces.\n",
    "\n",
    "N = 16\n",
    "d = 4\n",
    "indeterminates = [var(\"y_%d%d\" % ((i+1),(j+1))) for i in range(sqrt(N)) for j in range(sqrt(N))]\n",
    "R = PolynomialRing(QQ, indeterminates)\n",
    "R.inject_variables()\n",
    "\n",
    "V = VectorSpace(QQ, binomial(N + d - 1, d))\n",
    "glN = MatrixSpace(QQ, N)"
   ]
  },
  {
   "cell_type": "code",
   "execution_count": 53,
   "metadata": {},
   "outputs": [],
   "source": [
    "# Let us inititalize the list of polynomials, f\n",
    "# In this case, it is a singleton set, the determinant polynomial.\n",
    "\n",
    "M = MatrixSpace(R, 4)\n",
    "A = M(np.array(indeterminates).reshape(-1,4))\n",
    "f = [R(A.determinant())]"
   ]
  },
  {
   "cell_type": "code",
   "execution_count": 54,
   "metadata": {
    "scrolled": false
   },
   "outputs": [],
   "source": [
    "# This defines the action of glN (general linear lie algebra) on the homogeneous polynomials of degree d in R.\n",
    "\n",
    "# X_action: (glN, R^d) => R^d\n",
    "def X_action(X, p):\n",
    "    grad_p = p.gradient()\n",
    "    sum = 0\n",
    "    for a in range(N):\n",
    "        for b in range(N):\n",
    "            sum += -X[a][b]*indeterminates[b]*grad_p[a]\n",
    "    return R(sum)"
   ]
  },
  {
   "cell_type": "code",
   "execution_count": 55,
   "metadata": {
    "scrolled": true
   },
   "outputs": [],
   "source": [
    "# This cell defines the explicit isomorphism between V <=> R^d\n",
    "\n",
    "# gives \"the\" ordering of the degree d monomials in R to allow for a natural correspondence with coefficient vectors\n",
    "symmfuncs = SymmetricFunctions(QQ).h()\n",
    "monomials = symmfuncs([d]).expand(N, alphabet=indeterminates).monomials()\n",
    "\n",
    "# R^d => V\n",
    "def polynomial_to_vector(p):\n",
    "    if not p in R:\n",
    "        return 0\n",
    "    coefficient_list = []\n",
    "    for i in range(len(monomials)):\n",
    "        coefficient_list.append(p.monomial_coefficient(monomials[i]))\n",
    "    return V(coefficient_list)\n",
    "\n",
    "# V => R^d\n",
    "def vector_to_polynomial(v):\n",
    "    if not v in V:\n",
    "        return 0\n",
    "    p = 0\n",
    "    for i, item in enumerate(Sequence(monomials)):\n",
    "        p += v[i]*item\n",
    "    return R(p)"
   ]
  },
  {
   "cell_type": "code",
   "execution_count": 56,
   "metadata": {},
   "outputs": [],
   "source": [
    "# Data processing cell to flatten sparse vectors over V. We also create an optimized inner product function on such vectors.\n",
    "\n",
    "# V => V\n",
    "def sparsify(v):\n",
    "    flattened_list = []\n",
    "    for index, value in enumerate(v):\n",
    "        if v[index] != 0:\n",
    "            flattened_list.append((index,value))\n",
    "    return flattened_list\n",
    "\n",
    "\n",
    "# <V,V> => QQ\n",
    "def sparse_inner_product(a,b):\n",
    "    i = 0; j = 0\n",
    "    result = 0\n",
    "    while i < len(a) and j < len(b):\n",
    "        if a[i][0] == b[j][0]:\n",
    "            result += a[i][1]*b[j][1]\n",
    "            i += 1\n",
    "            j += 1\n",
    "        elif a[i][0] < b[j][0]:\n",
    "            i += 1\n",
    "        else:\n",
    "            j += 1\n",
    "    return result"
   ]
  },
  {
   "cell_type": "code",
   "execution_count": 57,
   "metadata": {
    "scrolled": true
   },
   "outputs": [
    {
     "name": "stdout",
     "output_type": "stream",
     "text": [
      "W: Vector space of degree 3876 and dimension 1 over Rational Field\n",
      "Basis matrix:\n",
      "1 x 3876 dense matrix over Rational Field\n",
      "W_perp: Vector space of degree 3876 and dimension 3875 over Rational Field\n",
      "Basis matrix:\n",
      "3875 x 3876 dense matrix over Rational Field\n"
     ]
    }
   ],
   "source": [
    "# We define the subspaces W = span{f}, as well as its orthogonal complement, W_perp.\n",
    "\n",
    "W = V.subspace([polynomial_to_vector(fi) for fi in f])\n",
    "W_perp = W.complement()\n",
    "\n",
    "print('W:', W)\n",
    "print('W_perp:', W_perp)\n",
    "\n",
    "g = W_perp.basis()\n",
    "\n",
    "p = W.dimension()\n",
    "q = W_perp.dimension()"
   ]
  },
  {
   "cell_type": "markdown",
   "metadata": {},
   "source": [
    "We note `M_f` $:= \\tilde{M}_f$"
   ]
  },
  {
   "cell_type": "code",
   "execution_count": null,
   "metadata": {
    "scrolled": true
   },
   "outputs": [],
   "source": [
    "# Pre-processing memoization of entries of M_f\n",
    "\n",
    "# returns E_ij basis matrix of glN\n",
    "E = lambda i,j: list(glN.basis())[(N*i) + j]\n",
    "\n",
    "# E_action_f[l][i][j] = (E_ij)(f_l)\n",
    "E_action_f = [[[sparsify(polynomial_to_vector(X_action(E(i,j),f[l]))) for i in range(N)] for j in range(N)] for l in range(p)]\n",
    "\n",
    "# convert g to sparse representation\n",
    "g_sparse = [sparsify(g[i]) for i in range(len(g))]"
   ]
  },
  {
   "cell_type": "code",
   "execution_count": 44,
   "metadata": {},
   "outputs": [
    {
     "name": "stdout",
     "output_type": "stream",
     "text": [
      "dim(ker(M_f)) = 31\n",
      "31\n"
     ]
    }
   ],
   "source": [
    "\n",
    "# Construct M_f\n",
    "M_f = zero_matrix(QQ, p*q, N^2)\n",
    "for l in range(p):\n",
    "    for k in range(q):\n",
    "        for i in range(N):\n",
    "            for j in range(N):\n",
    "                M_f[(p*l) + k,(N*i) + j] = sparse_inner_product(E_action_f[l][i][j], g_sparse[k])\n",
    "                \n",
    "print('dim(ker(M_f)) =', glN.dimension() - M_f.rank())\n",
    "print('2*(n^2)-1 =', 2*(n^2)-1)"
   ]
  },
  {
   "cell_type": "code",
   "execution_count": null,
   "metadata": {},
   "outputs": [],
   "source": []
  }
 ],
 "metadata": {
  "kernelspec": {
   "display_name": "SageMath 9.2",
   "language": "sage",
   "name": "sagemath"
  },
  "language_info": {
   "codemirror_mode": {
    "name": "ipython",
    "version": 3
   },
   "file_extension": ".py",
   "mimetype": "text/x-python",
   "name": "python",
   "nbconvert_exporter": "python",
   "pygments_lexer": "ipython3",
   "version": "3.7.7"
  }
 },
 "nbformat": 4,
 "nbformat_minor": 4
}
