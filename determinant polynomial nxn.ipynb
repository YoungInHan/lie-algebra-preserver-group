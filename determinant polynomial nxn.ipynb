{
 "cells": [
  {
   "cell_type": "code",
   "execution_count": 65,
   "metadata": {},
   "outputs": [],
   "source": [
    "import numpy as np"
   ]
  },
  {
   "cell_type": "markdown",
   "metadata": {},
   "source": [
    "We note that we are using the base field `QQ` for all computations currently"
   ]
  },
  {
   "cell_type": "markdown",
   "metadata": {},
   "source": [
    "Let us fix $N$, $d$.\n",
    "\n",
    "Let `R`$ := \\mathbb{C}[y_{11}, y_{12}, y_{21}, y_{22}]$ and let `R^d`$ := \\mathbb{C}[y_{11}, y_{12}, y_{21}, y_{22}]^d$.\n",
    "<br>\n",
    "Let `V`$ := \\mathbb{C}^{{N+d-1}\\choose{d}} \\cong  \\mathbb{C}[y_{11}, y_{12}, y_{21}, y_{22}]^d$\n",
    "<br>\n",
    "Let `glN` $:= \\mathfrak{gl}_N \\cong M_{N}$."
   ]
  },
  {
   "cell_type": "code",
   "execution_count": 66,
   "metadata": {
    "scrolled": false
   },
   "outputs": [
    {
     "name": "stdout",
     "output_type": "stream",
     "text": [
      "Defining y_11, y_12, y_13, y_14, y_21, y_22, y_23, y_24, y_31, y_32, y_33, y_34, y_41, y_42, y_43, y_44\n"
     ]
    }
   ],
   "source": [
    "n = 4\n",
    "N = 16\n",
    "d = 4\n",
    "indeterminates = [var(\"y_%d%d\" % ((i+1),(j+1))) for i in range(n) for j in range(n)]\n",
    "R = PolynomialRing(QQ, indeterminates)\n",
    "R.inject_variables()\n",
    "\n",
    "V = VectorSpace(QQ, binomial(N + d - 1, d))\n",
    "glN = MatrixSpace(QQ, N)"
   ]
  },
  {
   "cell_type": "code",
   "execution_count": 69,
   "metadata": {},
   "outputs": [
    {
     "name": "stdout",
     "output_type": "stream",
     "text": [
      "[y_11 y_12 y_13 y_14]\n",
      "[y_21 y_22 y_23 y_24]\n",
      "[y_31 y_32 y_33 y_34]\n",
      "[y_41 y_42 y_43 y_44]\n"
     ]
    }
   ],
   "source": [
    "M = MatrixSpace(R, 4)\n",
    "A = M(np.array(indeterminates).reshape(-1,4))\n",
    "print(A)\n",
    "f = [R(A.determinant())]"
   ]
  },
  {
   "cell_type": "code",
   "execution_count": 71,
   "metadata": {
    "scrolled": false
   },
   "outputs": [],
   "source": [
    "# (glN, R^d) -> R^d\n",
    "def X_action(X, p):\n",
    "    grad_p = p.gradient()\n",
    "    sum = 0\n",
    "    for a in range(N):\n",
    "        for b in range(N):\n",
    "            sum += -X[a][b]*indeterminates[b]*grad_p[a]\n",
    "    return R(sum)"
   ]
  },
  {
   "cell_type": "code",
   "execution_count": 72,
   "metadata": {
    "scrolled": true
   },
   "outputs": [],
   "source": [
    "## gives \"the\" ordering of the degree d monomials in R to allow for a natural correspondence with coefficient vectors\n",
    "symmfuncs = SymmetricFunctions(QQ).h()\n",
    "monomials = symmfuncs([d]).expand(N, alphabet=indeterminates).monomials()\n",
    "\n",
    "# R^d -> V\n",
    "def polynomial_to_vector(p):\n",
    "    if not p in R:\n",
    "        return 0\n",
    "    coefficient_list = []\n",
    "    for i in range(len(monomials)):\n",
    "        coefficient_list.append(p.monomial_coefficient(monomials[i]))\n",
    "    return V(coefficient_list)\n",
    "\n",
    "# V -> R^d\n",
    "def vector_to_polynomial(v):\n",
    "    if not v in V:\n",
    "        return 0\n",
    "    p = 0\n",
    "    for i, item in enumerate(Sequence(monomials)):\n",
    "        p += v[i]*item\n",
    "    return R(p)"
   ]
  },
  {
   "cell_type": "code",
   "execution_count": 73,
   "metadata": {
    "scrolled": true
   },
   "outputs": [
    {
     "name": "stdout",
     "output_type": "stream",
     "text": [
      "W: Vector space of degree 3876 and dimension 1 over Rational Field\n",
      "Basis matrix:\n",
      "1 x 3876 dense matrix over Rational Field\n",
      "W_perp: Vector space of degree 3876 and dimension 3875 over Rational Field\n",
      "Basis matrix:\n",
      "3875 x 3876 dense matrix over Rational Field\n"
     ]
    }
   ],
   "source": [
    "# W = span{f}\n",
    "W = V.subspace([polynomial_to_vector(fi) for fi in f])\n",
    "W_perp = W.complement()\n",
    "\n",
    "print('W:', W)\n",
    "print('W_perp:', W_perp)\n",
    "\n",
    "p = W.dimension()\n",
    "q = W_perp.dimension()"
   ]
  },
  {
   "cell_type": "markdown",
   "metadata": {},
   "source": [
    "Note `M_f` $:= \\tilde{M}_f$"
   ]
  },
  {
   "cell_type": "code",
   "execution_count": 82,
   "metadata": {
    "scrolled": true
   },
   "outputs": [],
   "source": [
    "E = lambda i,j: list(glN.basis())[(N*i) + j] # returns E_ij basis of glN\n",
    "\n",
    "ActionMemo = [[[polynomial_to_vector(X_action(E(i,j),f[l])) for i in range(N)] for j in range(N)] for l in range(p)]"
   ]
  },
  {
   "cell_type": "code",
   "execution_count": 87,
   "metadata": {},
   "outputs": [
    {
     "name": "stdout",
     "output_type": "stream",
     "text": [
      "0\n",
      "100\n",
      "200\n",
      "300\n",
      "400\n",
      "500\n",
      "600\n",
      "700\n",
      "800\n",
      "900\n",
      "1000\n",
      "1100\n",
      "1200\n",
      "1300\n",
      "1400\n",
      "1500\n",
      "1600\n",
      "1700\n",
      "1800\n",
      "1900\n",
      "2000\n",
      "2100\n",
      "2200\n",
      "2300\n",
      "2400\n",
      "2500\n",
      "2600\n",
      "2700\n",
      "2800\n",
      "2900\n",
      "3000\n",
      "3100\n",
      "3200\n",
      "3300\n",
      "3400\n",
      "3500\n",
      "3600\n",
      "3700\n",
      "3800\n",
      "dim(ker(M_f)) = 31\n",
      "31\n"
     ]
    }
   ],
   "source": [
    "# Construct M_f\n",
    "M_f = zero_matrix(QQ, p*q, N^2)\n",
    "for l in range(p):\n",
    "    for k in range(q):\n",
    "        if k % 100 == 0:\n",
    "            print(k)\n",
    "        for i in range(N):\n",
    "            for j in range(N):\n",
    "                M_f[(p*l) + k,(N*i) + j] = ActionMemo[l][i][j].dot_product(V(g[k]))\n",
    "                \n",
    "print('dim(ker(M_f)) =', glN.dimension() - M_f.rank())\n",
    "print(2*(n^2)-1)"
   ]
  },
  {
   "cell_type": "code",
   "execution_count": null,
   "metadata": {},
   "outputs": [],
   "source": []
  }
 ],
 "metadata": {
  "kernelspec": {
   "display_name": "SageMath 9.2",
   "language": "sage",
   "name": "sagemath"
  },
  "language_info": {
   "codemirror_mode": {
    "name": "ipython",
    "version": 3
   },
   "file_extension": ".py",
   "mimetype": "text/x-python",
   "name": "python",
   "nbconvert_exporter": "python",
   "pygments_lexer": "ipython3",
   "version": "3.7.7"
  }
 },
 "nbformat": 4,
 "nbformat_minor": 4
}
