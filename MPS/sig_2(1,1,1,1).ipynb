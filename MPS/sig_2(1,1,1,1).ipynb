{
 "cells": [
  {
   "cell_type": "code",
   "execution_count": 1,
   "metadata": {},
   "outputs": [],
   "source": [
    "import numpy as np\n",
    "import sys\n",
    "sys.path.append(\"..\")\n",
    "from utils.sparse_vector import *\n",
    "from utils.vector_polynomial_isomorphism import *\n",
    "from utils.minor_flattening import *"
   ]
  },
  {
   "cell_type": "code",
   "execution_count": 2,
   "metadata": {},
   "outputs": [
    {
     "name": "stdout",
     "output_type": "stream",
     "text": [
      "Defining x_0000, x_0001, x_0010, x_0011, x_0100, x_0101, x_0110, x_0111, x_1000, x_1001, x_1010, x_1011, x_1100, x_1101, x_1110, x_1111\n"
     ]
    }
   ],
   "source": [
    "# Let us initialize constants and vector spaces.\n",
    "N = 16\n",
    "n = [2,2,2,2]\n",
    "d = 3\n",
    "indeterminates = form_indeterminates(n)\n",
    "R = PolynomialRing(QQ, indeterminates)\n",
    "R.inject_variables()\n",
    "\n",
    "glN = MatrixSpace(QQ, N)\n",
    "dimV = binomial(N + d - 1, d)\n",
    "V = VectorSpace(QQ, dimV)\n",
    "\n",
    "vp_iso = vector_polynomial_isomorphism(R, V, indeterminates, d)"
   ]
  },
  {
   "cell_type": "code",
   "execution_count": 3,
   "metadata": {
    "scrolled": true
   },
   "outputs": [
    {
     "name": "stdout",
     "output_type": "stream",
     "text": [
      "16\n",
      "48\n"
     ]
    }
   ],
   "source": [
    "\n",
    "\n",
    "\n",
    "f = get_flattening_minors_MPS(R, n, d)\n",
    "\n",
    "test = get_flattening_minors(R,n,d)\n",
    "\n",
    "print(len(f))\n",
    "print(len(test))\n",
    "f_vec = [vp_iso.polynomial_to_vector(fi) for fi in f]"
   ]
  },
  {
   "cell_type": "code",
   "execution_count": 4,
   "metadata": {},
   "outputs": [
    {
     "name": "stdout",
     "output_type": "stream",
     "text": [
      "Vector space of degree 816 and dimension 16 over Rational Field\n",
      "Basis matrix:\n",
      "16 x 816 dense matrix over Rational Field\n"
     ]
    }
   ],
   "source": [
    "W = V.subspace(f_vec)\n",
    "\n",
    "print(W)"
   ]
  },
  {
   "cell_type": "code",
   "execution_count": 5,
   "metadata": {},
   "outputs": [
    {
     "name": "stdout",
     "output_type": "stream",
     "text": [
      "Vector space of degree 816 and dimension 800 over Rational Field\n",
      "Basis matrix:\n",
      "800 x 816 dense matrix over Rational Field\n"
     ]
    }
   ],
   "source": [
    "W_perp = W.complement()\n",
    "\n",
    "print(W_perp)\n",
    "\n",
    "p = W.dimension()\n",
    "q = W_perp.dimension()"
   ]
  },
  {
   "cell_type": "code",
   "execution_count": 6,
   "metadata": {},
   "outputs": [],
   "source": [
    "def E_action(a, b, grad_fl):\n",
    "    sum = -1*indeterminates[b]*grad_fl[a]\n",
    "    return R(sum)"
   ]
  },
  {
   "cell_type": "code",
   "execution_count": 7,
   "metadata": {},
   "outputs": [],
   "source": [
    "g_sparse = [sparsify(W_perp.gen(k)) for k in range(q)]"
   ]
  },
  {
   "cell_type": "code",
   "execution_count": 8,
   "metadata": {},
   "outputs": [
    {
     "name": "stdout",
     "output_type": "stream",
     "text": [
      "0\n",
      "1\n",
      "2\n",
      "3\n",
      "4\n",
      "5\n",
      "6\n",
      "7\n",
      "8\n",
      "9\n",
      "10\n",
      "11\n",
      "12\n",
      "13\n",
      "14\n",
      "15\n"
     ]
    }
   ],
   "source": [
    "E_action_fl = [[0 for j in range(N)] for i in range(N)]\n",
    "\n",
    "# Construct M_f\n",
    "M_f = zero_matrix(QQ, p*q, N^2, sparse=True)\n",
    "for l in range(p):\n",
    "    print(l)\n",
    "    grad_fl = vp_iso.vector_to_polynomial(W.gen(l)).gradient()\n",
    "    for i in range(N):\n",
    "        for j in range(N):\n",
    "            E_action_fl[i][j] = sparsify(vp_iso.polynomial_to_vector(E_action(i,j,grad_fl)))\n",
    "    for k in range(q):\n",
    "        for i in range(N):\n",
    "            for j in range(N):\n",
    "                M_f[(q*l) + k,(N*i) + j] = sparse_inner_product(E_action_fl[i][j], g_sparse[k])"
   ]
  },
  {
   "cell_type": "code",
   "execution_count": 9,
   "metadata": {},
   "outputs": [
    {
     "name": "stdout",
     "output_type": "stream",
     "text": [
      "rank(M_f) = 225\n",
      "dim(ker(M_f)) = 31\n"
     ]
    }
   ],
   "source": [
    "rank = M_f.rank()\n",
    "\n",
    "print('rank(M_f) =', rank)\n",
    "print('dim(ker(M_f)) =', glN.dimension() - rank)"
   ]
  },
  {
   "cell_type": "code",
   "execution_count": 10,
   "metadata": {},
   "outputs": [
    {
     "name": "stdout",
     "output_type": "stream",
     "text": [
      "expected: 13\n"
     ]
    }
   ],
   "source": [
    "print('expected:', sum([ni^2-1 for ni in n]) + 1)"
   ]
  },
  {
   "cell_type": "code",
   "execution_count": null,
   "metadata": {},
   "outputs": [],
   "source": []
  }
 ],
 "metadata": {
  "kernelspec": {
   "display_name": "SageMath 9.2",
   "language": "sage",
   "name": "sagemath"
  },
  "language_info": {
   "codemirror_mode": {
    "name": "ipython",
    "version": 3
   },
   "file_extension": ".py",
   "mimetype": "text/x-python",
   "name": "python",
   "nbconvert_exporter": "python",
   "pygments_lexer": "ipython3",
   "version": "3.7.7"
  }
 },
 "nbformat": 4,
 "nbformat_minor": 4
}
