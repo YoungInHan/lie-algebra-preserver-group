{
 "cells": [
  {
   "cell_type": "code",
   "execution_count": 71,
   "metadata": {},
   "outputs": [],
   "source": [
    "import numpy as np\n",
    "from sparse_vector import *\n",
    "from vector_polynomial_isomorphism import *\n",
    "from minor_flattening import *"
   ]
  },
  {
   "cell_type": "markdown",
   "metadata": {},
   "source": [
    "We note that we are using the base field `QQ` for all computations currently"
   ]
  },
  {
   "cell_type": "code",
   "execution_count": 72,
   "metadata": {
    "scrolled": false
   },
   "outputs": [
    {
     "name": "stdout",
     "output_type": "stream",
     "text": [
      "Defining x_000, x_001, x_002, x_010, x_011, x_012, x_100, x_101, x_102, x_110, x_111, x_112\n",
      "Defining x_000, x_001, x_002, x_010, x_011, x_012, x_100, x_101, x_102, x_110, x_111, x_112, p_1, p_2, p_3, p_4, p_5, p_6, p_7, p_8, p_9, p_10, p_11, p_12, p_13, p_14\n"
     ]
    }
   ],
   "source": [
    "# Let us initialize constants and vector spaces.\n",
    "\n",
    "N = 2*2*3\n",
    "n = [2,2,3]\n",
    "indeterminates = form_indeterminates(n)\n",
    "parameters = [var(\"\".join([\"p_\", str(i+1)])) for i in range(14)]\n",
    "R = PolynomialRing(QQ, indeterminates)\n",
    "R_parameterized = PolynomialRing(QQ, indeterminates + parameters)\n",
    "R.inject_variables()\n",
    "R_parameterized.inject_variables()\n",
    "\n",
    "glN = MatrixSpace(QQ, N)\n",
    "dimV3 = binomial(N + 3 - 1, 3)\n",
    "V3 = VectorSpace(QQ, dimV3)\n",
    "dimV4 = binomial(N + 4 - 1, 4)\n",
    "V4 = VectorSpace(QQ, dimV4)\n",
    "\n",
    "vp_iso3 = vector_polynomial_isomorphism(R, V3, indeterminates, 3)\n",
    "vp_iso4 = vector_polynomial_isomorphism(R, V4, indeterminates, 4)"
   ]
  },
  {
   "cell_type": "code",
   "execution_count": 73,
   "metadata": {},
   "outputs": [],
   "source": [
    "# deg 3 generators\n",
    "f_deg3 = get_flattening_minors(R, n, 3)\n",
    "f_vec3 = [vp_iso3.polynomial_to_vector(fi) for fi in f_deg3]\n",
    "\n",
    "# deg 4 generators\n",
    "\n",
    "# first add the 48 generators created from multiplying single variables by the flattening 3 minors\n",
    "f_deg4 = []\n",
    "for vari in indeterminates:\n",
    "    for fi in f_deg3:\n",
    "        f_deg4.append(vari*fi)\n",
    "\n",
    "# L is the parameterization of the tangential variety\n",
    "L = []\n",
    "a = [[p_1,p_2], [p_8, p_9]]\n",
    "b = [[p_3,p_4], [p_10, p_11]]\n",
    "c = [[p_5,p_6,p_7], [p_12,p_13,p_14]]\n",
    "for i in range(2):\n",
    "    for j in range(2):\n",
    "        for k in range(3):\n",
    "            L.append(R_parameterized(var(\"\".join([\"x_\", str(i), str(j), str(k)])) - a[1][i]*b[0][j]*c[0][k] - a[0][i]*b[1][j]*c[0][k] - a[0][i]*b[0][j]*c[1][k]))\n",
    "\n",
    "# elimination ideal, the ideal of the tangential variety\n",
    "J = Ideal(L).elimination_ideal([p_1, p_2, p_3, p_4, p_5, p_6, p_7, p_8, p_9, p_10, p_11, p_12, p_13, p_14])\n",
    "f_deg4 += J.gens()[4:] # the first 4 out of 10 are degree 3, just ignore those in this case\n",
    "f_vec4 = [vp_iso4.polynomial_to_vector(R(fi)) for fi in f_deg4]\n"
   ]
  },
  {
   "cell_type": "code",
   "execution_count": 74,
   "metadata": {},
   "outputs": [
    {
     "name": "stdout",
     "output_type": "stream",
     "text": [
      "Vector space of degree 364 and dimension 4 over Rational Field\n",
      "Basis matrix:\n",
      "4 x 364 dense matrix over Rational Field\n",
      "Vector space of degree 1365 and dimension 51 over Rational Field\n",
      "Basis matrix:\n",
      "51 x 1365 dense matrix over Rational Field\n"
     ]
    }
   ],
   "source": [
    "W3 = V3.subspace(f_vec3)\n",
    "print(W3)\n",
    "\n",
    "W4 = V4.subspace(f_vec4)\n",
    "print(W4)"
   ]
  },
  {
   "cell_type": "code",
   "execution_count": 75,
   "metadata": {},
   "outputs": [
    {
     "name": "stdout",
     "output_type": "stream",
     "text": [
      "Vector space of degree 364 and dimension 360 over Rational Field\n",
      "Basis matrix:\n",
      "360 x 364 dense matrix over Rational Field\n",
      "Vector space of degree 1365 and dimension 1314 over Rational Field\n",
      "Basis matrix:\n",
      "1314 x 1365 dense matrix over Rational Field\n"
     ]
    }
   ],
   "source": [
    "W_perp3 = W3.complement()\n",
    "print(W_perp3)\n",
    "p3 = W3.dimension()\n",
    "q3 = W_perp3.dimension()\n",
    "\n",
    "W_perp4 = W4.complement()\n",
    "print(W_perp4)\n",
    "p4 = W4.dimension()\n",
    "q4 = W_perp4.dimension()"
   ]
  },
  {
   "cell_type": "code",
   "execution_count": 76,
   "metadata": {
    "scrolled": false
   },
   "outputs": [],
   "source": [
    "def E_action(a, b, grad_fl):\n",
    "    sum = -1*indeterminates[b]*grad_fl[a]\n",
    "    return R(sum)"
   ]
  },
  {
   "cell_type": "markdown",
   "metadata": {},
   "source": [
    "We note `M_f` $:= \\tilde{M}_f$"
   ]
  },
  {
   "cell_type": "code",
   "execution_count": 77,
   "metadata": {
    "scrolled": true
   },
   "outputs": [],
   "source": [
    "g_sparse3 = [sparsify(W_perp3.gen(k)) for k in range(q3)]\n",
    "g_sparse4 = [sparsify(W_perp4.gen(k)) for k in range(q4)]"
   ]
  },
  {
   "cell_type": "code",
   "execution_count": 78,
   "metadata": {},
   "outputs": [],
   "source": [
    "E_action_fl = [[0 for j in range(N)] for i in range(N)]\n",
    "\n",
    "# Construct M_f3\n",
    "M_f3 = zero_matrix(QQ, p3*q3, N^2, sparse=True)\n",
    "for l in range(p3):\n",
    "    grad_fl = vp_iso3.vector_to_polynomial(W3.gen(l)).gradient()\n",
    "    for i in range(N):\n",
    "        for j in range(N):\n",
    "            E_action_fl[i][j] = sparsify(vp_iso3.polynomial_to_vector(E_action(i,j,grad_fl)))\n",
    "    for k in range(q3):\n",
    "        for i in range(N):\n",
    "            for j in range(N):\n",
    "                M_f3[(q3*l) + k,(N*i) + j] = sparse_inner_product(E_action_fl[i][j], g_sparse3[k])\n",
    "                \n",
    "# Construct M_f4\n",
    "M_f4 = zero_matrix(QQ, p4*q4, N^2, sparse=True)\n",
    "for l in range(p4):\n",
    "    grad_fl = vp_iso4.vector_to_polynomial(W4.gen(l)).gradient()\n",
    "    for i in range(N):\n",
    "        for j in range(N):\n",
    "            E_action_fl[i][j] = sparsify(vp_iso4.polynomial_to_vector(E_action(i,j,grad_fl)))\n",
    "    for k in range(q4):\n",
    "        for i in range(N):\n",
    "            for j in range(N):\n",
    "                M_f4[(q4*l) + k,(N*i) + j] = sparse_inner_product(E_action_fl[i][j], g_sparse4[k])"
   ]
  },
  {
   "cell_type": "code",
   "execution_count": 81,
   "metadata": {},
   "outputs": [
    {
     "name": "stdout",
     "output_type": "stream",
     "text": [
      "dim(ker(M_f3)) = 24\n",
      "dim(ker(M_f4)) = 15\n",
      "dimension of [ker(M_f3) intersected with ker(M_f4)] =  15\n"
     ]
    }
   ],
   "source": [
    "ns3 = M_f3.right_kernel()\n",
    "print('dim(ker(M_f3)) =', ns3.dimension())\n",
    "\n",
    "ns4 = M_f4.right_kernel()\n",
    "print('dim(ker(M_f4)) =', ns4.dimension())\n",
    "\n",
    "print('dimension of [ker(M_f3) intersected with ker(M_f4)] = ', ns4.intersection(ns3).dimension())"
   ]
  },
  {
   "cell_type": "code",
   "execution_count": 82,
   "metadata": {},
   "outputs": [
    {
     "name": "stdout",
     "output_type": "stream",
     "text": [
      "expected: 15\n"
     ]
    }
   ],
   "source": [
    "print('expected:', sum([ni^2-1 for ni in n]) + 1)"
   ]
  },
  {
   "cell_type": "code",
   "execution_count": null,
   "metadata": {},
   "outputs": [],
   "source": []
  }
 ],
 "metadata": {
  "kernelspec": {
   "display_name": "SageMath 9.2",
   "language": "sage",
   "name": "sagemath"
  },
  "language_info": {
   "codemirror_mode": {
    "name": "ipython",
    "version": 3
   },
   "file_extension": ".py",
   "mimetype": "text/x-python",
   "name": "python",
   "nbconvert_exporter": "python",
   "pygments_lexer": "ipython3",
   "version": "3.7.7"
  }
 },
 "nbformat": 4,
 "nbformat_minor": 4
}
