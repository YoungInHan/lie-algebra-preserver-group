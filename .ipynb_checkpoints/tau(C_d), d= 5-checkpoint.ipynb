{
 "cells": [
  {
   "cell_type": "code",
   "execution_count": 6,
   "metadata": {},
   "outputs": [],
   "source": [
    "import numpy as np\n",
    "from sparse_vector import *\n",
    "from vector_polynomial_isomorphism import *\n",
    "from minor_flattening import *"
   ]
  },
  {
   "cell_type": "markdown",
   "metadata": {},
   "source": [
    "We note that we are using the base field `QQ` for all computations currently"
   ]
  },
  {
   "cell_type": "code",
   "execution_count": 7,
   "metadata": {
    "scrolled": false
   },
   "outputs": [
    {
     "name": "stdout",
     "output_type": "stream",
     "text": [
      "Defining x_0, x_1, x_2, x_3, x_4, x_5, x_6, x_7\n"
     ]
    }
   ],
   "source": [
    "# Let us initialize constants and vector spaces.\n",
    "\n",
    "d = 7\n",
    "N = d+1\n",
    "n = [N]\n",
    "indeterminates = form_indeterminates(n)\n",
    "R = PolynomialRing(QQ, indeterminates)\n",
    "R.inject_variables()\n",
    "\n",
    "glN = MatrixSpace(QQ, N)\n",
    "dimV = binomial(N + 2 - 1, 2)\n",
    "V = VectorSpace(QQ, dimV)\n",
    "\n",
    "vp_iso = vector_polynomial_isomorphism(R, V, indeterminates, 2)"
   ]
  },
  {
   "cell_type": "code",
   "execution_count": 8,
   "metadata": {},
   "outputs": [],
   "source": [
    "def x_(i):\n",
    "    return var(\"\".join([\"x_\", str(i)]))\n",
    "\n",
    "delta = [[R(x_(i)*x_(j+1) - x_(j)*x_(i+1)) for j in range(d)] for i in range(d-1)]\n",
    "\n",
    "Q = [[R(delta[i+2][j] - 2*delta[i+1][j+1] + delta[i][j+2]) for j in range(i+1, d-2)] for i in range(d-3)]\n",
    "\n",
    "Q_lst = list(np.concatenate(Q).flat)\n",
    "f_vec = [vp_iso.polynomial_to_vector(qi) for qi in Q_lst]"
   ]
  },
  {
   "cell_type": "code",
   "execution_count": 9,
   "metadata": {},
   "outputs": [
    {
     "name": "stdout",
     "output_type": "stream",
     "text": [
      "Defining t, s\n",
      "[1, t + s, t^2 + 2*t*s, t^3 + 3*t^2*s, t^4 + 4*t^3*s, t^5 + 5*t^4*s, t^6 + 6*t^5*s, t^7 + 7*t^6*s]\n",
      "0\n",
      "0\n",
      "0\n",
      "0\n",
      "0\n",
      "0\n",
      "0\n",
      "0\n",
      "0\n",
      "0\n"
     ]
    }
   ],
   "source": [
    "# Check tangential variety vanishes on Q_lst\n",
    "\n",
    "R_parameterized = PolynomialRing(QQ, [var('t'), var('s')])\n",
    "R_parameterized.inject_variables()\n",
    "T_param = [1] + [R_parameterized(t^(i+1) + s*diff(t^(i+1), t)) for i in range(d)]\n",
    "print(T_param)\n",
    "for qi in Q_lst:\n",
    "    print(qi(T_param))"
   ]
  },
  {
   "cell_type": "code",
   "execution_count": 10,
   "metadata": {},
   "outputs": [
    {
     "name": "stdout",
     "output_type": "stream",
     "text": [
      "Vector space of degree 36 and dimension 10 over Rational Field\n",
      "Basis matrix:\n",
      "[ 0  0  0  0  1  0  0  0  0  0 -4  0  0  0  0  3  0  0  0  0  0  0  0  0  0  0  0  0  0  0  0  0  0  0  0  0]\n",
      "[ 0  0  0  0  0  1  0  0  0  0  0 -3  0  0  0  0  2  0  0  0  0  0  0  0  0  0  0  0  0  0  0  0  0  0  0  0]\n",
      "[ 0  0  0  0  0  0  1  0  0  0  0  0  0  0  0  0  0 -9  0  0  0  8  0  0  0  0  0  0  0  0  0  0  0  0  0  0]\n",
      "[ 0  0  0  0  0  0  0  1  0  0  0  0  0  0  0  0  0  0 -6  0  0  0  5  0  0  0  0  0  0  0  0  0  0  0  0  0]\n",
      "[ 0  0  0  0  0  0  0  0  0  0  0  0  1  0  0  0  0 -4  0  0  0  3  0  0  0  0  0  0  0  0  0  0  0  0  0  0]\n",
      "[ 0  0  0  0  0  0  0  0  0  0  0  0  0  1  0  0  0  0 -3  0  0  0  2  0  0  0  0  0  0  0  0  0  0  0  0  0]\n",
      "[ 0  0  0  0  0  0  0  0  0  0  0  0  0  0  1  0  0  0  0  0  0  0  0 -9  0  0  8  0  0  0  0  0  0  0  0  0]\n",
      "[ 0  0  0  0  0  0  0  0  0  0  0  0  0  0  0  0  0  0  0  1  0  0  0 -4  0  0  3  0  0  0  0  0  0  0  0  0]\n",
      "[ 0  0  0  0  0  0  0  0  0  0  0  0  0  0  0  0  0  0  0  0  1  0  0  0 -3  0  0  2  0  0  0  0  0  0  0  0]\n",
      "[ 0  0  0  0  0  0  0  0  0  0  0  0  0  0  0  0  0  0  0  0  0  0  0  0  0  1  0  0 -4  0  3  0  0  0  0  0]\n"
     ]
    }
   ],
   "source": [
    "W = V.subspace(f_vec)\n",
    "print(W)"
   ]
  },
  {
   "cell_type": "code",
   "execution_count": 11,
   "metadata": {},
   "outputs": [
    {
     "name": "stdout",
     "output_type": "stream",
     "text": [
      "Vector space of degree 36 and dimension 26 over Rational Field\n",
      "Basis matrix:\n",
      "26 x 36 dense matrix over Rational Field\n"
     ]
    }
   ],
   "source": [
    "W_perp = W.complement()\n",
    "print(W_perp)\n",
    "p = W.dimension()\n",
    "q = W_perp.dimension()"
   ]
  },
  {
   "cell_type": "code",
   "execution_count": 12,
   "metadata": {
    "scrolled": false
   },
   "outputs": [],
   "source": [
    "def E_action(a, b, grad_fl):\n",
    "    sum = -1*indeterminates[b]*grad_fl[a]\n",
    "    return R(sum)"
   ]
  },
  {
   "cell_type": "markdown",
   "metadata": {},
   "source": [
    "We note `M_f` $:= \\tilde{M}_f$"
   ]
  },
  {
   "cell_type": "code",
   "execution_count": 13,
   "metadata": {
    "scrolled": true
   },
   "outputs": [],
   "source": [
    "g_sparse = [sparsify(W_perp.gen(k)) for k in range(q)]"
   ]
  },
  {
   "cell_type": "code",
   "execution_count": 14,
   "metadata": {},
   "outputs": [],
   "source": [
    "E_action_fl = [[0 for j in range(N)] for i in range(N)]\n",
    "\n",
    "# Construct M_f\n",
    "M_f = zero_matrix(QQ, p*q, N^2, sparse=True)\n",
    "for l in range(p):\n",
    "    grad_fl = vp_iso.vector_to_polynomial(W.gen(l)).gradient()\n",
    "    for i in range(N):\n",
    "        for j in range(N):\n",
    "            E_action_fl[i][j] = sparsify(vp_iso.polynomial_to_vector(E_action(i,j,grad_fl)))\n",
    "    for k in range(q):\n",
    "        for i in range(N):\n",
    "            for j in range(N):\n",
    "                M_f[(q*l) + k,(N*i) + j] = sparse_inner_product(E_action_fl[i][j], g_sparse[k])\n",
    "                "
   ]
  },
  {
   "cell_type": "code",
   "execution_count": 15,
   "metadata": {},
   "outputs": [
    {
     "name": "stdout",
     "output_type": "stream",
     "text": [
      "rank 60\n",
      "dim(ker(M_f3)) = 4\n"
     ]
    }
   ],
   "source": [
    "ns = M_f.right_kernel()\n",
    "print('rank', M_f.rank())\n",
    "print('dim(ker(M_f3)) =', ns.dimension())\n"
   ]
  },
  {
   "cell_type": "code",
   "execution_count": 16,
   "metadata": {},
   "outputs": [
    {
     "name": "stdout",
     "output_type": "stream",
     "text": [
      "expected: 4\n"
     ]
    }
   ],
   "source": [
    "print('expected: 4')"
   ]
  },
  {
   "cell_type": "code",
   "execution_count": null,
   "metadata": {},
   "outputs": [],
   "source": []
  }
 ],
 "metadata": {
  "kernelspec": {
   "display_name": "SageMath 9.2",
   "language": "sage",
   "name": "sagemath"
  },
  "language_info": {
   "codemirror_mode": {
    "name": "ipython",
    "version": 3
   },
   "file_extension": ".py",
   "mimetype": "text/x-python",
   "name": "python",
   "nbconvert_exporter": "python",
   "pygments_lexer": "ipython3",
   "version": "3.7.7"
  }
 },
 "nbformat": 4,
 "nbformat_minor": 4
}
