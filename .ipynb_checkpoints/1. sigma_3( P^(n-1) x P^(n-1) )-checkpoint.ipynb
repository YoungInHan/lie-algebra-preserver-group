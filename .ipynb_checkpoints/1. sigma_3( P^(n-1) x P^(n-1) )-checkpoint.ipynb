{
 "cells": [
  {
   "cell_type": "code",
   "execution_count": 56,
   "metadata": {},
   "outputs": [],
   "source": [
    "import numpy as np\n",
    "from sparse_vector import *\n"
   ]
  },
  {
   "cell_type": "markdown",
   "metadata": {},
   "source": [
    "We note that we are using the base field `QQ` for all computations currently"
   ]
  },
  {
   "cell_type": "code",
   "execution_count": 57,
   "metadata": {
    "scrolled": false
   },
   "outputs": [
    {
     "name": "stdout",
     "output_type": "stream",
     "text": [
      "Defining y_11, y_12, y_13, y_14, y_21, y_22, y_23, y_24, y_31, y_32, y_33, y_34, y_41, y_42, y_43, y_44\n"
     ]
    }
   ],
   "source": [
    "# Let us initialize constants and vector spaces.\n",
    "\n",
    "N = 16\n",
    "n = 4\n",
    "d = 4\n",
    "indeterminates = [var(\"y_%d%d\" % ((i+1),(j+1))) for i in range(n) for j in range(n)]\n",
    "R = PolynomialRing(QQ, indeterminates)\n",
    "R.inject_variables()\n",
    "\n",
    "dimV = binomial(N + d - 1, d)\n",
    "V = VectorSpace(QQ, dimV, sparse=True)\n",
    "glN = MatrixSpace(QQ, N)\n",
    "\n",
    "vp_iso = vector_polynomial_isomorphism(R, indeterminates, d)"
   ]
  },
  {
   "cell_type": "markdown",
   "metadata": {},
   "source": [
    "Note $\\hat{\\sigma_{r}}(\\mathbb{P}^{n-1} \\times \\mathbb{P}^{n-1}) = \\mathbb{V}( (r+1)\\times(r+1) \\text{ minors})$"
   ]
  },
  {
   "cell_type": "code",
   "execution_count": 30,
   "metadata": {
    "scrolled": true
   },
   "outputs": [
    {
     "name": "stdout",
     "output_type": "stream",
     "text": [
      "[y_11 y_12 y_13 y_14]\n",
      "[y_21 y_22 y_23 y_24]\n",
      "[y_31 y_32 y_33 y_34]\n",
      "[y_41 y_42 y_43 y_44]\n"
     ]
    }
   ],
   "source": [
    "# Let us inititalize the list of polynomials, f\n",
    "# In our case, r=3.\n",
    "\n",
    "M = MatrixSpace(R, n)\n",
    "A = M(np.array(indeterminates).reshape(-1,n))\n",
    "print(A)\n",
    "if n <= 3:\n",
    "    f = [R(A.determinant())]\n",
    "else:\n",
    "    f = A.minors(4)\n",
    "    \n",
    "grad_f = [fi.gradient() for fi in f]"
   ]
  },
  {
   "cell_type": "code",
   "execution_count": 31,
   "metadata": {
    "scrolled": false
   },
   "outputs": [],
   "source": [
    "# This defines the action of glN (general linear lie algebra) on the homogeneous polynomials of degree d in R.\n",
    "\n",
    "# X_action: (glN, R^d) => R^d\n",
    "def X_action(X, i):\n",
    "    sum = 0\n",
    "    for a in range(N):\n",
    "        for b in range(N):\n",
    "            sum += -X[a][b]*indeterminates[b]*grad_f[i][a]\n",
    "    return R(sum)\n",
    "\n",
    "def E_action(a, b, f_index):\n",
    "    sum = -1*indeterminates[b]*grad_f[f_index][a]\n",
    "    return R(sum)"
   ]
  },
  {
   "cell_type": "code",
   "execution_count": 36,
   "metadata": {},
   "outputs": [
    {
     "name": "stdout",
     "output_type": "stream",
     "text": [
      "Sparse vector space of degree 3876 and dimension 1 over Rational Field\n",
      "Basis matrix:\n",
      "1 x 3876 sparse matrix over Rational Field\n"
     ]
    }
   ],
   "source": [
    "# W = span{f}\n",
    "\n",
    "f_vec = [pv_iso.polynomial_to_vector(fi) for fi in f]\n",
    "W = V.subspace(f_vec)\n",
    "\n",
    "print(W)\n",
    "p = W.dimension()"
   ]
  },
  {
   "cell_type": "code",
   "execution_count": 37,
   "metadata": {
    "scrolled": true
   },
   "outputs": [
    {
     "name": "stdout",
     "output_type": "stream",
     "text": [
      "Vector space of degree 3876 and dimension 3875 over Rational Field\n",
      "Basis matrix:\n",
      "3875 x 3876 dense matrix over Rational Field\n"
     ]
    }
   ],
   "source": [
    "\n",
    "W_perp = W.complement()\n",
    "\n",
    "print(W_perp)\n",
    "\n",
    "g = W_perp.basis()\n",
    "q = W_perp.dimension()"
   ]
  },
  {
   "cell_type": "markdown",
   "metadata": {},
   "source": [
    "We note `M_f` $:= \\tilde{M}_f$"
   ]
  },
  {
   "cell_type": "code",
   "execution_count": 38,
   "metadata": {
    "scrolled": true
   },
   "outputs": [],
   "source": [
    "# Pre-processing memoization of entries of M_f\n",
    "\n",
    "# returns E_ij basis matrix of glN\n",
    "E = lambda i,j: list(glN.basis())[(N*i) + j]\n",
    "\n",
    "# E_action_f[l][i][j] = (E_ij)(f_l)\n",
    "E_action_f = [[[sparsify(pv_iso.polynomial_to_vector(E_action(i,j,l))) for i in range(N)] for j in range(N)] for l in range(p)]\n",
    "\n",
    "# convert g to sparse representation\n",
    "g_sparse = [sparsify(g[i]) for i in range(q)]"
   ]
  },
  {
   "cell_type": "code",
   "execution_count": 39,
   "metadata": {},
   "outputs": [
    {
     "name": "stdout",
     "output_type": "stream",
     "text": [
      "dim(ker(M_f)) = 31\n",
      "2*(n^2)-1 = 31\n"
     ]
    }
   ],
   "source": [
    "\n",
    "# Construct M_f\n",
    "M_f = zero_matrix(QQ, p*q, N^2)\n",
    "for l in range(p):\n",
    "    for k in range(q):\n",
    "        for i in range(N):\n",
    "            for j in range(N):\n",
    "                M_f[(p*l) + k,(N*i) + j] = sparse_inner_product(E_action_f[l][i][j], g_sparse[k])\n",
    "\n",
    "print('dim(ker(M_f)) =', glN.dimension() - M_f.rank())\n",
    "print('2*(n^2)-1 =', 2*(N)-1)"
   ]
  },
  {
   "cell_type": "code",
   "execution_count": null,
   "metadata": {},
   "outputs": [],
   "source": []
  }
 ],
 "metadata": {
  "kernelspec": {
   "display_name": "SageMath 9.2",
   "language": "sage",
   "name": "sagemath"
  },
  "language_info": {
   "codemirror_mode": {
    "name": "ipython",
    "version": 3
   },
   "file_extension": ".py",
   "mimetype": "text/x-python",
   "name": "python",
   "nbconvert_exporter": "python",
   "pygments_lexer": "ipython3",
   "version": "3.7.7"
  }
 },
 "nbformat": 4,
 "nbformat_minor": 4
}
