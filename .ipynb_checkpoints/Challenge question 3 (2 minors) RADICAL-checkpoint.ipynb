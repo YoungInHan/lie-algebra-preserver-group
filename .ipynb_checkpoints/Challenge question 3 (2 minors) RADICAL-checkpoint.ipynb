{
 "cells": [
  {
   "cell_type": "code",
   "execution_count": 2,
   "metadata": {},
   "outputs": [],
   "source": [
    "import numpy as np"
   ]
  },
  {
   "cell_type": "markdown",
   "metadata": {},
   "source": [
    "We note that we are using the base field `QQ` for all computations currently"
   ]
  },
  {
   "cell_type": "code",
   "execution_count": 21,
   "metadata": {
    "scrolled": false
   },
   "outputs": [
    {
     "name": "stdout",
     "output_type": "stream",
     "text": [
      "Defining x_0000, x_0001, x_0010, x_0011, x_0100, x_0101, x_0110, x_0111, x_1000, x_1001, x_1010, x_1011, x_1100, x_1101, x_1110, x_1111\n"
     ]
    }
   ],
   "source": [
    "# Let us initialize constants and vector spaces.\n",
    "\n",
    "N = 16\n",
    "n = 2\n",
    "d = 2\n",
    "indeterminates = [var(\"\".join([\"x_\", str(i), str(j), str(k), str(l)])) for i in range(n) for j in range(n) for k in range(n) for l in range(n)]\n",
    "R = PolynomialRing(QQ, indeterminates)\n",
    "R.inject_variables()\n",
    "\n",
    "glN = MatrixSpace(QQ, N)\n",
    "dimV = binomial(N + d - 1, d)\n",
    "V = VectorSpace(QQ, dimV)"
   ]
  },
  {
   "cell_type": "code",
   "execution_count": 22,
   "metadata": {
    "scrolled": true
   },
   "outputs": [],
   "source": [
    "# This cell defines the explicit isomorphism between V <=> R^d\n",
    "\n",
    "# construct monomial list\n",
    "i = 0\n",
    "elem = 0\n",
    "lst = []\n",
    "while i < N*d:\n",
    "    lst.append(indeterminates[elem])\n",
    "    i += 1\n",
    "    if i % d == 0:\n",
    "        elem += 1\n",
    "S = Subsets(lst, d, submultiset=True).list()\n",
    "monomials = [R(np.prod(S[i])) for i in range(dimV)]\n",
    "\n",
    "# R^d => V\n",
    "def polynomial_to_vector(p):\n",
    "    if not p in R:\n",
    "        return 0\n",
    "    coefficient_list = []\n",
    "    for i in range(len(monomials)):\n",
    "        coefficient_list.append(p.monomial_coefficient(monomials[i]))\n",
    "    return V(coefficient_list)\n",
    "\n",
    "# V => R^d\n",
    "def vector_to_polynomial(v):\n",
    "    if not v in V:\n",
    "        return 0\n",
    "    p = 0\n",
    "    for i, item in enumerate(Sequence(monomials)):\n",
    "        p += v[i]*item\n",
    "    return R(p)"
   ]
  },
  {
   "cell_type": "code",
   "execution_count": 23,
   "metadata": {},
   "outputs": [],
   "source": [
    "# Data processing cell to flatten sparse vectors over V. We also create an optimized inner product function on such vectors.\n",
    "\n",
    "# V => V\n",
    "def sparsify(v):\n",
    "    flattened_list = []\n",
    "    for index, value in enumerate(v):\n",
    "        if v[index] != 0:\n",
    "            flattened_list.append((index,value))\n",
    "    return flattened_list\n",
    "\n",
    "\n",
    "# <V,V> => QQ\n",
    "def sparse_inner_product(a,b):\n",
    "    i = 0; j = 0\n",
    "    result = 0\n",
    "    while i < len(a) and j < len(b):\n",
    "        if a[i][0] == b[j][0]:\n",
    "            result += a[i][1]*b[j][1]\n",
    "            i += 1\n",
    "            j += 1\n",
    "        elif a[i][0] < b[j][0]:\n",
    "            i += 1\n",
    "        else:\n",
    "            j += 1\n",
    "    return result"
   ]
  },
  {
   "cell_type": "code",
   "execution_count": 24,
   "metadata": {},
   "outputs": [],
   "source": [
    "# construct f\n",
    "\n",
    "M = MatrixSpace(R, n^2)\n",
    "\n",
    "x_sub = lambda i,j,k,l: R(var(\"\".join([\"x_\", str(i), str(j), str(k), str(l)])))\n",
    "\n",
    "A_12 = M(0)\n",
    "A_23 = M(0)\n",
    "A_13 = M(0)\n",
    "for i in range(n):\n",
    "    for j in range(n):\n",
    "        for k in range(n):\n",
    "            for l in range(n):\n",
    "                A_12[2*i + j, 2*k + l] = x_sub(i,j,k,l)\n",
    "                A_23[2*j + k, 2*i + l] = x_sub(i,j,k,l)\n",
    "                A_13[2*i + k, 2*j + l] = x_sub(i,j,k,l)\n",
    "\n",
    "f = A_12.minors(2) + A_23.minors(2) + A_13.minors(2)"
   ]
  },
  {
   "cell_type": "code",
   "execution_count": 25,
   "metadata": {},
   "outputs": [],
   "source": [
    "f_vec = [polynomial_to_vector(fi) for fi in f]\n"
   ]
  },
  {
   "cell_type": "code",
   "execution_count": 26,
   "metadata": {},
   "outputs": [
    {
     "name": "stdout",
     "output_type": "stream",
     "text": [
      "Vector space of degree 136 and dimension 54 over Rational Field\n",
      "Basis matrix:\n",
      "54 x 136 dense matrix over Rational Field\n",
      "Vector space of degree 136 and dimension 82 over Rational Field\n",
      "Basis matrix:\n",
      "82 x 136 dense matrix over Rational Field\n"
     ]
    }
   ],
   "source": [
    "# define W = span{f}, W_perp = orthogonal complement of span{f}\n",
    "\n",
    "W = V.subspace(f_vec)\n",
    "\n",
    "f_vec_basis = W.basis() # take only the linearly independent ones\n",
    "grad_f = [vector_to_polynomial(fi).gradient() for fi in f_vec_basis]\n",
    "\n",
    "W_perp = W.complement()\n",
    "\n",
    "print(W)\n",
    "print(W_perp)\n",
    "\n",
    "g = W_perp.basis()\n",
    "p = W.dimension()\n",
    "q = W_perp.dimension()"
   ]
  },
  {
   "cell_type": "code",
   "execution_count": 27,
   "metadata": {
    "scrolled": false
   },
   "outputs": [],
   "source": [
    "# This defines the action of glN (general linear lie algebra) on the homogeneous polynomials of degree d in R.\n",
    "\n",
    "# X_action: (glN, R^d) => R^d\n",
    "def X_action(X, i):\n",
    "    sum = 0\n",
    "    for a in range(N):\n",
    "        for b in range(N):\n",
    "            sum += -X[a][b]*indeterminates[b]*grad_f[i][a]\n",
    "    return R(sum)\n",
    "\n",
    "def E_action(a, b, f_index):\n",
    "    sum = -1*indeterminates[b]*grad_f[f_index][a]\n",
    "    return R(sum)"
   ]
  },
  {
   "cell_type": "markdown",
   "metadata": {},
   "source": [
    "We note `M_f` $:= \\tilde{M}_f$"
   ]
  },
  {
   "cell_type": "code",
   "execution_count": 28,
   "metadata": {
    "scrolled": true
   },
   "outputs": [],
   "source": [
    "# Pre-processing memoization of entries of M_f\n",
    "\n",
    "# returns E_ij basis matrix of glN\n",
    "E = lambda i,j: list(glN.basis())[(N*i) + j]\n",
    "\n",
    "# E_action_f[l][i][j] = (E_ij)(f_l)\n",
    "\n",
    "E_action_f = [[[0 for j in range(N)] for i in range(N)] for l in range(p)]\n",
    "for l in range(p):\n",
    "    for i in range(N):\n",
    "        for j in range(N):\n",
    "            E_action_f[l][i][j] = sparsify(polynomial_to_vector(E_action(i,j,l)))\n",
    "\n",
    "# convert g to sparse representation\n",
    "g_sparse = [sparsify(g[i]) for i in range(q)]"
   ]
  },
  {
   "cell_type": "code",
   "execution_count": 29,
   "metadata": {},
   "outputs": [],
   "source": [
    "# Construct M_f\n",
    "M_f = zero_matrix(QQ, p*q, N^2)\n",
    "for l in range(p):\n",
    "    for k in range(q):\n",
    "        for i in range(N):\n",
    "            for j in range(N):\n",
    "                M_f[(p*l) + k,(N*i) + j] = sparse_inner_product(E_action_f[l][i][j], g_sparse[k])"
   ]
  },
  {
   "cell_type": "code",
   "execution_count": 30,
   "metadata": {},
   "outputs": [
    {
     "name": "stdout",
     "output_type": "stream",
     "text": [
      "rank(M_f) = 243\n",
      "dim(ker(M_f)) = 13\n"
     ]
    }
   ],
   "source": [
    "print('rank(M_f) =', M_f.rank())\n",
    "print('dim(ker(M_f)) =', glN.dimension() - M_f.rank())"
   ]
  },
  {
   "cell_type": "code",
   "execution_count": 31,
   "metadata": {},
   "outputs": [
    {
     "name": "stdout",
     "output_type": "stream",
     "text": [
      "13\n"
     ]
    }
   ],
   "source": [
    "print((2^2 - 1) + (2^2 - 1) + (2^2 - 1) + (2^2 - 1) +1)"
   ]
  },
  {
   "cell_type": "code",
   "execution_count": null,
   "metadata": {},
   "outputs": [],
   "source": []
  }
 ],
 "metadata": {
  "kernelspec": {
   "display_name": "SageMath 9.2",
   "language": "sage",
   "name": "sagemath"
  },
  "language_info": {
   "codemirror_mode": {
    "name": "ipython",
    "version": 3
   },
   "file_extension": ".py",
   "mimetype": "text/x-python",
   "name": "python",
   "nbconvert_exporter": "python",
   "pygments_lexer": "ipython3",
   "version": "3.7.7"
  }
 },
 "nbformat": 4,
 "nbformat_minor": 4
}
