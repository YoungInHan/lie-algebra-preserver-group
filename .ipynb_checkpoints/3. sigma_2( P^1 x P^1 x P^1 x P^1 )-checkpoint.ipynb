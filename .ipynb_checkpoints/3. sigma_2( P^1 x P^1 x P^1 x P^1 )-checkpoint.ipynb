{
 "cells": [
  {
   "cell_type": "code",
   "execution_count": 2,
   "metadata": {},
   "outputs": [],
   "source": [
    "import numpy as np\n",
    "from sparse_vector import *\n",
    "from vector_polynomial_isomorphism import *"
   ]
  },
  {
   "cell_type": "markdown",
   "metadata": {},
   "source": [
    "We note that we are using the base field `QQ` for all computations currently"
   ]
  },
  {
   "cell_type": "code",
   "execution_count": 3,
   "metadata": {
    "scrolled": false
   },
   "outputs": [
    {
     "name": "stdout",
     "output_type": "stream",
     "text": [
      "Defining x_0000, x_0001, x_0010, x_0011, x_0100, x_0101, x_0110, x_0111, x_1000, x_1001, x_1010, x_1011, x_1100, x_1101, x_1110, x_1111\n"
     ]
    }
   ],
   "source": [
    "# Let us initialize constants and vector spaces.\n",
    "\n",
    "N = 16\n",
    "n = 2\n",
    "d = 3\n",
    "indeterminates = [var(\"\".join([\"x_\", str(i), str(j), str(k), str(l)])) for i in range(n) for j in range(n) for k in range(n) for l in range(n)]\n",
    "R = PolynomialRing(QQ, indeterminates)\n",
    "R.inject_variables()\n",
    "\n",
    "glN = MatrixSpace(QQ, N)\n",
    "dimV = binomial(N + d - 1, d)\n",
    "V = VectorSpace(QQ, dimV)\n",
    "\n",
    "vp_iso = vector_polynomial_isomorphism(R, V, indeterminates, d)"
   ]
  },
  {
   "cell_type": "code",
   "execution_count": 4,
   "metadata": {},
   "outputs": [],
   "source": [
    "def X_action(X, f):\n",
    "    grad_test = f.gradient()\n",
    "    sum = 0\n",
    "    for a in range(N):\n",
    "        for b in range(N):\n",
    "            sum += -X[a][b]*indeterminates[b]*grad_test[a]\n",
    "    return R(sum)"
   ]
  },
  {
   "cell_type": "code",
   "execution_count": 7,
   "metadata": {},
   "outputs": [],
   "source": [
    "# construct f\n",
    "\n",
    "M = MatrixSpace(R, n^2)\n",
    "\n",
    "x_sub = lambda i,j,k,l: R(var(\"\".join([\"x_\", str(i), str(j), str(k), str(l)])))\n",
    "\n",
    "A_12 = M(0)\n",
    "A_23 = M(0)\n",
    "A_13 = M(0)\n",
    "for i in range(n):\n",
    "    for j in range(n):\n",
    "        for k in range(n):\n",
    "            for l in range(n):\n",
    "                A_12[2*i + j, 2*k + l] = x_sub(i,j,k,l)\n",
    "                A_23[2*j + k, 2*i + l] = x_sub(i,j,k,l)\n",
    "                A_13[2*i + k, 2*j + l] = x_sub(i,j,k,l)\n",
    "\n",
    "f = A_12.minors(3) + A_23.minors(3)\n",
    "\n",
    "f_vec = [vp_iso.polynomial_to_vector(fi) for fi in f]"
   ]
  },
  {
   "cell_type": "code",
   "execution_count": 8,
   "metadata": {},
   "outputs": [
    {
     "name": "stdout",
     "output_type": "stream",
     "text": [
      "Vector space of degree 816 and dimension 32 over Rational Field\n",
      "Basis matrix:\n",
      "32 x 816 dense matrix over Rational Field\n"
     ]
    }
   ],
   "source": [
    "# define W = span{f}, W_perp = orthogonal complement of span{f}\n",
    "\n",
    "W = V.subspace(f_vec)\n",
    "\n",
    "print(W)\n",
    "\n",
    "f_vec_basis = W.basis() # take only the linearly independent ones\n",
    "grad_f = [vp_iso.vector_to_polynomial(fi).gradient() for fi in f_vec_basis]\n"
   ]
  },
  {
   "cell_type": "code",
   "execution_count": 9,
   "metadata": {},
   "outputs": [
    {
     "name": "stdout",
     "output_type": "stream",
     "text": [
      "Vector space of degree 816 and dimension 32 over Rational Field\n",
      "Basis matrix:\n",
      "32 x 816 dense matrix over Rational Field\n",
      "Vector space of degree 816 and dimension 784 over Rational Field\n",
      "Basis matrix:\n",
      "784 x 816 dense matrix over Rational Field\n"
     ]
    }
   ],
   "source": [
    "W_perp = W.complement()\n",
    "\n",
    "print(W)\n",
    "print(W_perp)\n",
    "\n",
    "g = W_perp.basis()\n",
    "p = W.dimension()\n",
    "q = W_perp.dimension()"
   ]
  },
  {
   "cell_type": "code",
   "execution_count": 10,
   "metadata": {
    "scrolled": false
   },
   "outputs": [],
   "source": [
    "\n",
    "# action of basis matrix E_ab in glN onto homogeneous polynomial f[i]\n",
    "def E_action(a, b, i):\n",
    "    sum = -1*indeterminates[b]*grad_f[i][a]\n",
    "    return R(sum)"
   ]
  },
  {
   "cell_type": "markdown",
   "metadata": {},
   "source": [
    "We note `M_f` $:= \\tilde{M}_f$"
   ]
  },
  {
   "cell_type": "code",
   "execution_count": 11,
   "metadata": {
    "scrolled": true
   },
   "outputs": [],
   "source": [
    "# Pre-processing memoization of entries of M_f\n",
    "\n",
    "# E_action_f[l][i][j] = (E_ij)(f_l)\n",
    "E_action_f = [[[0 for j in range(N)] for i in range(N)] for l in range(p)]\n",
    "for l in range(p):\n",
    "    for i in range(N):\n",
    "        for j in range(N):\n",
    "            E_action_f[l][i][j] = sparsify(vp_iso.polynomial_to_vector(E_action(i,j,l)))\n",
    "\n",
    "# convert g to sparse representation\n",
    "g_sparse = [sparsify(g[i]) for i in range(q)]"
   ]
  },
  {
   "cell_type": "code",
   "execution_count": 27,
   "metadata": {},
   "outputs": [],
   "source": [
    "# Construct M_f\n",
    "M_f = zero_matrix(QQ, p*q, N^2)\n",
    "for l in range(p):\n",
    "    for k in range(q):\n",
    "        for i in range(N):\n",
    "            for j in range(N):\n",
    "                M_f[(p*l) + k,(N*i) + j] = sparse_inner_product(E_action_f[l][i][j], g_sparse[k])"
   ]
  },
  {
   "cell_type": "code",
   "execution_count": 28,
   "metadata": {},
   "outputs": [
    {
     "name": "stdout",
     "output_type": "stream",
     "text": [
      "[[(0, 1)], [(1, 1)], [(2, 1)], [(3, 1)], [(4, 1)], [(5, 1)], [(6, 1)], [(7, 1)], [(8, 1)], [(9, 1)], [(10, 1)], [(11, 1)], [(12, 1)], [(13, 1)], [(14, 1)], [(15, 1)], [(16, 1)], [(17, 1)], [(18, 1)], [(19, 1)], [(20, 1)], [(21, 1)], [(22, 1)], [(23, 1)], [(24, 1)], [(25, 1)], [(26, 1)], [(27, 1)], [(28, 1)], [(29, 1)], [(30, 1)], [(31, 1)], [(32, 1), (49, 1)], [(33, 1)], [(34, 1)], [(35, 1)], [(36, 1)], [(37, 1)], [(38, 1)], [(39, 1)], [(40, 1)], [(41, 1)], [(42, 1)], [(43, 1)], [(44, 1)], [(45, 1)], [(46, 1)], [(47, 1)], [(50, 1)], [(51, 1)], [(52, 1)], [(53, 1)], [(54, 1)], [(55, 1)], [(56, 1)], [(57, 1)], [(58, 1)], [(59, 1)], [(60, 1)], [(61, 1)], [(62, 1)], [(63, 1)], [(64, 1), (81, 1), (98, 1), (115, 1)], [(65, 1)], [(66, 1)], [(67, 1)], [(68, 1)], [(69, 1)], [(70, 1)], [(71, 1)], [(72, 1)], [(73, 1)], [(74, 1)], [(75, 1)], [(76, 1)], [(77, 1)], [(78, 1)], [(79, 1)], [(84, 1), (152, 1), (220, 1)], [(85, 1), (170, -1), (187, -1), (238, -1), (255, -1)], [(86, 1), (154, 1), (222, 1)], [(87, 1), (155, 1), (223, 1)], [(89, 1), (106, 1), (123, 1)], [(93, 1), (110, 1), (127, 1)], [(100, 1), (168, 1), (236, 1)], [(101, 1), (169, 1), (237, 1)], [(102, 1), (170, 1), (238, 1)], [(103, 1), (171, 1), (239, 1)], [(116, 1), (184, 1), (252, 1)], [(117, 1), (185, 1), (253, 1)], [(118, 1), (186, 1), (254, 1)], [(119, 1), (187, 1), (255, 1)], [(128, 1), (145, 1), (162, 1), (179, 1)], [(129, 1)], [(130, 1)], [(131, 1)], [(132, 1)], [(133, 1)], [(134, 1)], [(135, 1)], [(136, 1)], [(137, 1)], [(138, 1)], [(139, 1)], [(140, 1)], [(141, 1)], [(142, 1)], [(143, 1)], [(149, 1), (166, 1), (183, 1)], [(153, 1), (170, 1), (187, 1)], [(157, 1), (174, 1), (191, 1)], [(194, 1)], [(195, 1)], [(196, 1)], [(197, 1)], [(198, 1)], [(199, 1)], [(200, 1)], [(201, 1)], [(202, 1)], [(203, 1)], [(204, 1)], [(205, 1)], [(206, 1)], [(207, 1)], [(213, 1), (230, 1), (247, 1)], [(217, 1), (234, 1), (251, 1)], [(221, 1), (238, 1), (255, 1)]]\n"
     ]
    }
   ],
   "source": [
    "kern = M_f.right_kernel()\n",
    "\n",
    "print([sparsify(x) for x in kern.basis()])"
   ]
  },
  {
   "cell_type": "code",
   "execution_count": 29,
   "metadata": {},
   "outputs": [
    {
     "name": "stdout",
     "output_type": "stream",
     "text": [
      "rank(M_f) = 128\n",
      "dim(ker(M_f)) = 128\n"
     ]
    }
   ],
   "source": [
    "print('rank(M_f) =', M_f.rank())\n",
    "print('dim(ker(M_f)) =', glN.dimension() - M_f.rank())"
   ]
  },
  {
   "cell_type": "code",
   "execution_count": null,
   "metadata": {},
   "outputs": [],
   "source": []
  }
 ],
 "metadata": {
  "kernelspec": {
   "display_name": "SageMath 9.2",
   "language": "sage",
   "name": "sagemath"
  },
  "language_info": {
   "codemirror_mode": {
    "name": "ipython",
    "version": 3
   },
   "file_extension": ".py",
   "mimetype": "text/x-python",
   "name": "python",
   "nbconvert_exporter": "python",
   "pygments_lexer": "ipython3",
   "version": "3.7.7"
  }
 },
 "nbformat": 4,
 "nbformat_minor": 4
}
