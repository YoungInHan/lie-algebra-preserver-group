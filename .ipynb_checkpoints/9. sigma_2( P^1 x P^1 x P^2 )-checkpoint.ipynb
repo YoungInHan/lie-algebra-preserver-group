{
 "cells": [
  {
   "cell_type": "code",
   "execution_count": 1,
   "metadata": {},
   "outputs": [],
   "source": [
    "import numpy as np\n",
    "from sparse_vector import *\n",
    "from vector_polynomial_isomorphism import *"
   ]
  },
  {
   "cell_type": "markdown",
   "metadata": {},
   "source": [
    "We note that we are using the base field `QQ` for all computations currently"
   ]
  },
  {
   "cell_type": "code",
   "execution_count": 4,
   "metadata": {
    "scrolled": false
   },
   "outputs": [
    {
     "name": "stdout",
     "output_type": "stream",
     "text": [
      "Defining x_000, x_001, x_002, x_010, x_011, x_012, x_020, x_021, x_022, x_100, x_101, x_102, x_110, x_111, x_112, x_120, x_121, x_122\n"
     ]
    }
   ],
   "source": [
    "# Let us initialize constants and vector spaces.\n",
    "\n",
    "N = 18\n",
    "d = 3\n",
    "indeterminates = [var(\"\".join([\"x_\", str(i), str(j), str(k)])) for i in range(2) for j in range(3) for k in range(3)]\n",
    "R = PolynomialRing(QQ, indeterminates)\n",
    "R.inject_variables()\n",
    "\n",
    "glN = MatrixSpace(QQ, N)\n",
    "dimV = binomial(N + d - 1, d)\n",
    "V = VectorSpace(QQ, dimV)\n",
    "\n",
    "vp_iso = vector_polynomial_isomorphism(R, V, indeterminates, d)"
   ]
  },
  {
   "cell_type": "code",
   "execution_count": 17,
   "metadata": {},
   "outputs": [],
   "source": [
    "# construct f\n",
    "\n",
    "M_6by3 = MatrixSpace(R, 6, 3)\n",
    "\n",
    "x_sub = lambda i,j,k: R(var(\"\".join([\"x_\", str(i), str(j), str(k)])))\n",
    "\n",
    "A_12 = M_6by3(0)\n",
    "A_13 = M_6by3(0)\n",
    "\n",
    "for i in range(2):\n",
    "    for j in range(3):\n",
    "        for k in range(3):\n",
    "            A_12[3*i + j, k] = x_sub(i,j,k)\n",
    "            A_13[3*i + k, j] = x_sub(i,j,k)\n",
    "\n",
    "\n",
    "f = A_13.minors(3)\n",
    "\n",
    "f_vec = [vp_iso.polynomial_to_vector(fi) for fi in f]"
   ]
  },
  {
   "cell_type": "code",
   "execution_count": 18,
   "metadata": {},
   "outputs": [
    {
     "name": "stdout",
     "output_type": "stream",
     "text": [
      "Vector space of degree 1140 and dimension 20 over Rational Field\n",
      "Basis matrix:\n",
      "20 x 1140 dense matrix over Rational Field\n",
      "Vector space of degree 1140 and dimension 1120 over Rational Field\n",
      "Basis matrix:\n",
      "1120 x 1140 dense matrix over Rational Field\n"
     ]
    }
   ],
   "source": [
    "# define W = span{f}, W_perp = orthogonal complement of span{f}\n",
    "\n",
    "W = V.subspace(f_vec)\n",
    "\n",
    "f_vec_basis = W.basis() # take only the linearly independent ones\n",
    "    \n",
    "grad_f = [vp_iso.vector_to_polynomial(fi).gradient() for fi in f_vec_basis]\n",
    "\n",
    "W_perp = W.complement()\n",
    "\n",
    "print(W)\n",
    "print(W_perp)\n",
    "\n",
    "g = W_perp.basis()\n",
    "p = W.dimension()\n",
    "q = W_perp.dimension()"
   ]
  },
  {
   "cell_type": "code",
   "execution_count": 19,
   "metadata": {
    "scrolled": false
   },
   "outputs": [],
   "source": [
    "# action of basis matrix E_ab in glN onto homogeneous polynomial f[i]\n",
    "def E_action(a, b, i):\n",
    "    sum = -1*indeterminates[b]*grad_f[i][a]\n",
    "    return R(sum)"
   ]
  },
  {
   "cell_type": "markdown",
   "metadata": {},
   "source": [
    "We note `M_f` $:= \\tilde{M}_f$"
   ]
  },
  {
   "cell_type": "code",
   "execution_count": 20,
   "metadata": {
    "scrolled": true
   },
   "outputs": [],
   "source": [
    "# Pre-processing memoization of entries of M_f\n",
    "\n",
    "# E_action_f[l][i][j] = (E_ij)(f_l)\n",
    "E_action_f = [[[0 for j in range(N)] for i in range(N)] for l in range(p)]\n",
    "for l in range(p):\n",
    "    for i in range(N):\n",
    "        for j in range(N):\n",
    "            E_action_f[l][i][j] = sparsify(vp_iso.polynomial_to_vector(E_action(i,j,l)))\n",
    "\n",
    "# convert g to sparse representation\n",
    "g_sparse = [sparsify(g[i]) for i in range(q)]"
   ]
  },
  {
   "cell_type": "code",
   "execution_count": 21,
   "metadata": {
    "scrolled": true
   },
   "outputs": [
    {
     "name": "stdout",
     "output_type": "stream",
     "text": [
      "0\n"
     ]
    }
   ],
   "source": [
    "print(sparse_inner_product(E_action_f[0][0][0],g_sparse[0]))"
   ]
  },
  {
   "cell_type": "code",
   "execution_count": 22,
   "metadata": {},
   "outputs": [],
   "source": [
    "# Construct M_f\n",
    "\n",
    "M_f = zero_matrix(QQ, p*q, N^2)\n",
    "for l in range(p):\n",
    "    for k in range(q):\n",
    "        for i in range(N):\n",
    "            for j in range(N):\n",
    "                M_f[(l*p) + k,(N*i) + j] = sparse_inner_product(E_action_f[l][i][j], g_sparse[k])"
   ]
  },
  {
   "cell_type": "code",
   "execution_count": 23,
   "metadata": {
    "scrolled": false
   },
   "outputs": [
    {
     "name": "stdout",
     "output_type": "stream",
     "text": [
      "[[(0, 1)], [(1, 1)], [(2, 1)], [(3, 1)], [(4, 1)], [(5, 1)], [(6, 1)], [(7, 1)], [(8, 1)], [(9, 1)], [(10, 1)], [(11, 1)], [(12, 1)], [(13, 1)], [(14, 1)], [(15, 1)], [(16, 1)], [(17, 1)], [(18, 1)], [(19, 1)], [(20, 1)], [(21, 1)], [(22, 1)], [(23, 1)], [(24, 1)], [(25, 1)], [(26, 1)], [(27, 1)], [(28, 1)], [(29, 1)], [(30, 1)], [(31, 1)], [(32, 1)], [(33, 1)], [(34, 1)], [(35, 1)], [(36, 1)], [(37, 1)], [(38, 1)], [(39, 1)], [(40, 1)], [(41, 1)], [(42, 1)], [(43, 1)], [(44, 1)], [(45, 1)], [(46, 1)], [(47, 1)], [(48, 1)], [(49, 1)], [(50, 1)], [(51, 1)], [(52, 1)], [(53, 1)], [(54, 1)], [(55, 1)], [(56, 1)], [(57, 1)], [(58, 1)], [(59, 1)], [(60, 1)], [(61, 1)], [(62, 1)], [(63, 1)], [(64, 1)], [(65, 1)], [(66, 1)], [(67, 1)], [(68, 1)], [(69, 1)], [(70, 1)], [(71, 1)], [(73, 1)], [(74, 1)], [(75, 1)], [(76, 1)], [(77, 1)], [(78, 1)], [(79, 1)], [(80, 1)], [(81, 1)], [(82, 1)], [(83, 1)], [(84, 1)], [(85, 1)], [(86, 1)], [(87, 1)], [(88, 1)], [(89, 1)], [(91, 1)], [(92, 1)], [(93, 1)], [(94, 1)], [(95, 1)], [(96, 1)], [(97, 1)], [(98, 1)], [(99, 1)], [(100, 1)], [(101, 1)], [(102, 1)], [(103, 1)], [(104, 1)], [(105, 1)], [(106, 1)], [(107, 1)], [(108, 1)], [(109, 1)], [(110, 1)], [(111, 1)], [(112, 1)], [(113, 1)], [(114, 1)], [(115, 1)], [(116, 1)], [(117, 1)], [(118, 1)], [(119, 1)], [(120, 1)], [(121, 1)], [(122, 1)], [(123, 1)], [(124, 1)], [(125, 1)], [(127, 1)], [(128, 1)], [(129, 1)], [(130, 1)], [(131, 1)], [(132, 1)], [(133, 1)], [(134, 1)], [(135, 1)], [(136, 1)], [(137, 1)], [(138, 1)], [(139, 1)], [(140, 1)], [(141, 1)], [(142, 1)], [(143, 1)], [(145, 1)], [(146, 1)], [(147, 1)], [(148, 1)], [(149, 1)], [(150, 1)], [(151, 1)], [(152, 1)], [(153, 1)], [(154, 1)], [(155, 1)], [(156, 1)], [(157, 1)], [(158, 1)], [(159, 1)], [(160, 1)], [(161, 1)], [(162, 1), (219, 1), (276, 1)], [(163, 1), (220, 1), (277, 1)], [(164, 1), (221, 1), (278, 1)], [(171, 1), (247, -1), (266, -1), (304, -1), (323, -1)], [(172, 1), (229, 1), (286, 1)], [(173, 1), (230, 1), (287, 1)], [(174, 1), (193, 1), (212, 1)], [(177, 1), (196, 1), (215, 1)], [(180, 1), (237, 1), (294, 1)], [(181, 1), (238, 1), (295, 1)], [(182, 1), (239, 1), (296, 1)], [(189, 1), (246, 1), (303, 1)], [(190, 1), (247, 1), (304, 1)], [(191, 1), (248, 1), (305, 1)], [(198, 1), (255, 1), (312, 1)], [(199, 1), (256, 1), (313, 1)], [(200, 1), (257, 1), (314, 1)], [(207, 1), (264, 1), (321, 1)], [(208, 1), (265, 1), (322, 1)], [(209, 1), (266, 1), (323, 1)], [(225, 1), (244, 1), (263, 1)], [(228, 1), (247, 1), (266, 1)], [(231, 1), (250, 1), (269, 1)], [(279, 1), (298, 1), (317, 1)], [(282, 1), (301, 1), (320, 1)], [(285, 1), (304, 1), (323, 1)]]\n",
      "184\n",
      "rank(M_f) = 140\n",
      "dim(ker(M_f)) = 184\n"
     ]
    }
   ],
   "source": [
    "kern = M_f.right_kernel()\n",
    "print([sparsify(x) for x in kern.basis()])\n",
    "print(len(kern.basis()))\n",
    "print('rank(M_f) =', M_f.rank())\n",
    "print('dim(ker(M_f)) =', glN.dimension() - M_f.rank())"
   ]
  },
  {
   "cell_type": "code",
   "execution_count": 24,
   "metadata": {},
   "outputs": [
    {
     "name": "stdout",
     "output_type": "stream",
     "text": [
      "20\n"
     ]
    }
   ],
   "source": [
    "print((2^2-1) + (3^2-1) + (3^2-1) +1)"
   ]
  },
  {
   "cell_type": "code",
   "execution_count": null,
   "metadata": {},
   "outputs": [],
   "source": []
  }
 ],
 "metadata": {
  "kernelspec": {
   "display_name": "SageMath 9.2",
   "language": "sage",
   "name": "sagemath"
  },
  "language_info": {
   "codemirror_mode": {
    "name": "ipython",
    "version": 3
   },
   "file_extension": ".py",
   "mimetype": "text/x-python",
   "name": "python",
   "nbconvert_exporter": "python",
   "pygments_lexer": "ipython3",
   "version": "3.7.7"
  }
 },
 "nbformat": 4,
 "nbformat_minor": 4
}
