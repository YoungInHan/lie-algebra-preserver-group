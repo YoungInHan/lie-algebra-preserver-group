{
 "cells": [
  {
   "cell_type": "code",
   "execution_count": 1,
   "metadata": {},
   "outputs": [],
   "source": [
    "import numpy as np\n",
    "import sys\n",
    "sys.path.append('../')\n",
    "from utils.sparse_vector import *\n",
    "from utils.vector_polynomial_isomorphism import *\n",
    "from utils.minor_flattening import *"
   ]
  },
  {
   "cell_type": "markdown",
   "metadata": {},
   "source": [
    "$\\hat{\\sigma_{2}}(\\mathbb{P}^{1} \\times \\mathbb{P}^{1} \\times \\mathbb{P}^{1} \\times \\mathbb{P}^{2})$"
   ]
  },
  {
   "cell_type": "code",
   "execution_count": 2,
   "metadata": {
    "scrolled": false
   },
   "outputs": [
    {
     "name": "stdout",
     "output_type": "stream",
     "text": [
      "Defining x_0000, x_0001, x_0002, x_0010, x_0011, x_0012, x_0100, x_0101, x_0102, x_0110, x_0111, x_0112, x_1000, x_1001, x_1002, x_1010, x_1011, x_1012, x_1100, x_1101, x_1102, x_1110, x_1111, x_1112\n"
     ]
    }
   ],
   "source": [
    "# Let us initialize constants and vector spaces.\n",
    "N = 2*2*2*3\n",
    "n = [2,2,2,3]\n",
    "d = 3\n",
    "indeterminates = form_indeterminates(n)\n",
    "R = PolynomialRing(QQ, indeterminates)\n",
    "R.inject_variables()\n",
    "\n",
    "glN = MatrixSpace(QQ, N)\n",
    "dimV = binomial(N + d - 1, d)\n",
    "V = VectorSpace(QQ, dimV)\n",
    "\n",
    "vp_iso = vector_polynomial_isomorphism(R, V, indeterminates, d)"
   ]
  },
  {
   "cell_type": "code",
   "execution_count": 3,
   "metadata": {},
   "outputs": [],
   "source": [
    "f = get_flattening_minors(R, n, d)\n",
    "f_vec = [vp_iso.polynomial_to_vector(fi) for fi in f]"
   ]
  },
  {
   "cell_type": "code",
   "execution_count": 4,
   "metadata": {},
   "outputs": [
    {
     "name": "stdout",
     "output_type": "stream",
     "text": [
      "Vector space of degree 2600 and dimension 184 over Rational Field\n",
      "Basis matrix:\n",
      "184 x 2600 dense matrix over Rational Field\n"
     ]
    }
   ],
   "source": [
    "W = V.subspace(f_vec)\n",
    "\n",
    "print(W)"
   ]
  },
  {
   "cell_type": "code",
   "execution_count": 6,
   "metadata": {},
   "outputs": [
    {
     "name": "stderr",
     "output_type": "stream",
     "text": [
      "IOPub data rate exceeded.\n",
      "The notebook server will temporarily stop sending output\n",
      "to the client in order to avoid crashing it.\n",
      "To change this limit, set the config variable\n",
      "`--NotebookApp.iopub_data_rate_limit`.\n",
      "\n",
      "Current values:\n",
      "NotebookApp.iopub_data_rate_limit=1000000.0 (bytes/sec)\n",
      "NotebookApp.rate_limit_window=3.0 (secs)\n",
      "\n"
     ]
    }
   ],
   "source": [
    "W_perp = W.basis_matrix().right_kernel_matrix(algorithm='default', basis='computed')\n",
    "print(W_perp)\n",
    "\n",
    "p = W.dimension()"
   ]
  },
  {
   "cell_type": "code",
   "execution_count": 15,
   "metadata": {
    "scrolled": false
   },
   "outputs": [
    {
     "name": "stdout",
     "output_type": "stream",
     "text": [
      "2600\n"
     ]
    }
   ],
   "source": [
    "print(W_perp.ncols())\n",
    "\n",
    "def E_action(a, b, grad_fl):\n",
    "    sum = -1*indeterminates[b]*grad_fl[a]\n",
    "    return R(sum)"
   ]
  },
  {
   "cell_type": "markdown",
   "metadata": {},
   "source": [
    "We note `M_f` $:= \\tilde{M}_f$"
   ]
  },
  {
   "cell_type": "code",
   "execution_count": 7,
   "metadata": {
    "scrolled": true
   },
   "outputs": [],
   "source": [
    "g_sparse = [sparsify(W_perp.gen(k)) for k in range(q)]"
   ]
  },
  {
   "cell_type": "code",
   "execution_count": 23,
   "metadata": {},
   "outputs": [
    {
     "name": "stdout",
     "output_type": "stream",
     "text": [
      "0 01\n",
      " 23\n",
      "2 46\n",
      "3 69\n",
      "4 92\n",
      "5 115\n",
      "6 138\n",
      "7 161\n",
      "4 93\n",
      "6 139\n",
      "7 162\n",
      "5 116\n",
      "1 24\n",
      "2 47\n",
      "0 13 70\n",
      "\n",
      "4 94\n",
      "6 140\n",
      "7 163\n",
      "5 117\n",
      "4 95\n",
      "7 164\n",
      "1 25\n",
      "6 141\n",
      "2 48\n",
      "5 118\n",
      "3 71\n",
      "0 2\n",
      "4 96\n",
      "6 142\n",
      "7 165\n",
      "5 119\n",
      "2 49\n",
      "3 72\n",
      "1 26\n",
      "0 3\n",
      "4 97\n",
      "6 143\n",
      "7 166\n",
      "5 120\n",
      "7 167\n",
      "4 98\n",
      "5 121\n",
      "6 144\n",
      "2 50\n",
      "1 27\n",
      "3 73\n",
      "0 4\n",
      "7 168\n",
      "4 99\n",
      "5 122\n",
      "6 145\n",
      "3 1 74\n",
      "28\n",
      "2 51\n",
      "7 169\n",
      "4 100\n",
      "0 5\n",
      "5 123\n",
      "6 146\n",
      "7 170\n",
      "4 101\n",
      "6 147\n",
      "5 124\n",
      "3 75\n",
      "2 52\n",
      "1 29\n",
      "0 6\n",
      "4 102\n",
      "7 171\n",
      "6 148\n",
      "5 125\n",
      "4 103\n",
      "7 172\n",
      "0 7\n",
      "2 53\n",
      "6 149\n",
      "3 76\n",
      "5 126\n",
      "1 30\n",
      "4 104\n",
      "7 173\n",
      "6 150\n",
      "5 127\n",
      "2 54\n",
      "0 8\n",
      "3 77\n",
      "1 31\n",
      "7 174\n",
      "4 105\n",
      "6 151\n",
      "5 128\n",
      "7 175\n",
      "4 106\n",
      "6 152\n",
      "5 129\n",
      "0 9\n",
      "2 55\n",
      "3 78\n",
      "1 32\n",
      "7 176\n",
      "4 107\n",
      "6 153\n",
      "5 130\n",
      "7 177\n",
      "0 10\n",
      "2 56\n",
      "1 33\n",
      "64 108\n",
      " 154\n",
      "3 79\n",
      "5 131\n",
      "7 178\n",
      "6 155\n",
      "4 109\n",
      "5 132\n",
      "0 11\n",
      "2 57\n",
      "3 80\n",
      "1 34\n",
      "7 179\n",
      "6 156\n",
      "4 110\n",
      "5 133\n",
      "7 180\n",
      "2 58\n",
      "6 0 15712\n",
      "\n",
      "3 81\n",
      "1 35\n",
      "4 111\n",
      "5 134\n",
      "7 181\n",
      "6 158\n",
      "4 112\n",
      "5 135\n",
      "2 59\n",
      "0 13\n",
      "1 36\n",
      "3 82\n",
      "7 182\n",
      "6 159\n",
      "4 113\n",
      "5 136\n",
      "7 183\n",
      "2 60\n",
      "6 160\n",
      "0 14\n",
      "3 83\n",
      "1 37\n",
      "4 114\n",
      "5 137\n",
      "1 38\n",
      "3 84\n",
      "0 15\n",
      "2 61\n",
      "3 85\n",
      "2 62\n",
      "0 16\n",
      "1 39\n",
      "3 86\n",
      "0 17\n",
      "2 63\n",
      "1 40\n",
      "0 18\n",
      "3 87\n",
      "1 41\n",
      "2 64\n",
      "0 19\n",
      "3 88\n",
      "1 42\n",
      "2 65\n",
      "0 20\n",
      "3 89\n",
      "1 43\n",
      "2 66\n",
      "0 21\n",
      "1 44\n",
      "3 90\n",
      "2 67\n",
      "0 22\n",
      "1 45\n",
      "3 91\n",
      "2 68\n"
     ]
    }
   ],
   "source": [
    "import threading\n",
    "import multiprocessing\n",
    "\n",
    "# Construct M_f\n",
    "M_f = zero_matrix(QQ, W.dimension()*q, N^2, sparse=True)\n",
    "\n",
    "def split(a, n):\n",
    "    k, m = divmod(len(a), n)\n",
    "    return (a[i*k+min(i, m):(i+1)*k+min(i+1, m)] for i in range(n))\n",
    "\n",
    "process_ranges = list(split(range(W.dimension()), 8))\n",
    "\n",
    "def parallelize(given_range, processnum):\n",
    "    E_action_fl = [[0 for j in range(N)] for i in range(N)]\n",
    "    for l in given_range:\n",
    "        print(processnum, l)\n",
    "        grad_fl = vp_iso.vector_to_polynomial(W.gen(l)).gradient()\n",
    "        for i in range(N):\n",
    "            for j in range(N):\n",
    "                E_action_fl[i][j] = sparsify(vp_iso.polynomial_to_vector(E_action(i,j,grad_fl)))\n",
    "        for k in range(q):\n",
    "            for i in range(N):\n",
    "                for j in range(N):\n",
    "                    M_f[(q*l) + k,(N*i) + j] = sparse_inner_product(E_action_fl[i][j], g_sparse[k])\n",
    "    \n",
    "threads = []\n",
    "    \n",
    "for i in range(8):\n",
    "    p = threading.Thread(target=parallelize, args=[process_ranges[i], i])\n",
    "    p.start()\n",
    "    threads.append(p)\n",
    "    \n",
    "for t in threads:\n",
    "    t.join()"
   ]
  },
  {
   "cell_type": "code",
   "execution_count": 24,
   "metadata": {
    "scrolled": true
   },
   "outputs": [
    {
     "name": "stdout",
     "output_type": "stream",
     "text": [
      "False\n",
      "rank(M_f) = 558\n",
      "dim(ker(M_f)) = 18\n"
     ]
    }
   ],
   "source": [
    "print(M_f.is_zero())\n",
    "rank = M_f.rank()\n",
    "\n",
    "print('rank(M_f) =', rank)\n",
    "print('dim(ker(M_f)) =', glN.dimension() - rank)"
   ]
  },
  {
   "cell_type": "code",
   "execution_count": 19,
   "metadata": {},
   "outputs": [
    {
     "name": "stdout",
     "output_type": "stream",
     "text": [
      "expected: 18\n"
     ]
    }
   ],
   "source": [
    "print('expected:', sum([ni^2-1 for ni in n]) + 1)"
   ]
  },
  {
   "cell_type": "code",
   "execution_count": null,
   "metadata": {},
   "outputs": [],
   "source": []
  }
 ],
 "metadata": {
  "kernelspec": {
   "display_name": "SageMath 9.2",
   "language": "sage",
   "name": "sagemath"
  },
  "language_info": {
   "codemirror_mode": {
    "name": "ipython",
    "version": 3
   },
   "file_extension": ".py",
   "mimetype": "text/x-python",
   "name": "python",
   "nbconvert_exporter": "python",
   "pygments_lexer": "ipython3",
   "version": "3.7.7"
  }
 },
 "nbformat": 4,
 "nbformat_minor": 4
}
