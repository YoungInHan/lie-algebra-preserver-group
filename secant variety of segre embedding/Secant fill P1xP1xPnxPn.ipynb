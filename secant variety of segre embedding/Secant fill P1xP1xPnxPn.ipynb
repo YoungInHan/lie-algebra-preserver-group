{
 "cells": [
  {
   "cell_type": "code",
   "execution_count": 31,
   "metadata": {},
   "outputs": [],
   "source": [
    "import numpy as np\n",
    "import sys\n",
    "sys.path.append('../')\n",
    "from utils.sparse_vector import *\n",
    "from utils.vector_polynomial_isomorphism import *\n",
    "from utils.minor_flattening import *"
   ]
  },
  {
   "cell_type": "code",
   "execution_count": 73,
   "metadata": {
    "scrolled": true
   },
   "outputs": [
    {
     "name": "stdout",
     "output_type": "stream",
     "text": [
      "Defining x_0000, x_0001, x_0002, x_0010, x_0011, x_0012, x_0020, x_0021, x_0022, x_0100, x_0101, x_0102, x_0110, x_0111, x_0112, x_0120, x_0121, x_0122, x_1000, x_1001, x_1002, x_1010, x_1011, x_1012, x_1020, x_1021, x_1022, x_1100, x_1101, x_1102, x_1110, x_1111, x_1112, x_1120, x_1121, x_1122\n"
     ]
    }
   ],
   "source": [
    "# Let us initialize constants and vector spaces.\n",
    "\n",
    "N = 2*2*3*3\n",
    "n = [2,2,3,3]\n",
    "d = 6\n",
    "indeterminates = form_indeterminates(n)\n",
    "R = PolynomialRing(QQ, indeterminates)\n",
    "R.inject_variables()\n",
    "\n",
    "glN = MatrixSpace(QQ, N)"
   ]
  },
  {
   "cell_type": "code",
   "execution_count": 77,
   "metadata": {},
   "outputs": [],
   "source": [
    "f = get_flattening_minors(R, n, d)\n",
    "monomial_to_index = {}\n",
    "\n",
    "for k in f[0].monomials():\n",
    "    if k not in monomial_to_index:\n",
    "        monomial_to_index[k] = len(monomial_to_index)\n",
    "        \n",
    "for k in f[1].monomials():\n",
    "    if k not in monomial_to_index:\n",
    "        monomial_to_index[k] = len(monomial_to_index)\n",
    "\n",
    "index_to_monomial = list(monomial_to_index.keys())\n",
    "\n",
    "dim_V_small = len(monomial_to_index)\n",
    "V_small = VectorSpace(QQ, dim_V_small, sparse=True)\n",
    "f1_vec = [0 for _ in range(dim_V_small)]\n",
    "f2_vec = [0]*dim_V_small\n",
    "\n",
    "for mon in f[0].monomials():\n",
    "    i = monomial_to_index[mon]\n",
    "    f1_vec[i] = f[0].coefficient(mon)\n",
    "    \n",
    "for mon in f[1].monomials():\n",
    "    i = monomial_to_index[mon]\n",
    "    f2_vec[i] = f[1].coefficient(mon)\n",
    "\n",
    "f1_vec = V_small(f1_vec)\n",
    "f2_vec = V_small(f2_vec)\n",
    "\n",
    "\n",
    "W = V_small.subspace([f1_vec, f2_vec])"
   ]
  },
  {
   "cell_type": "code",
   "execution_count": 78,
   "metadata": {},
   "outputs": [],
   "source": [
    "W_perp = W.basis_matrix().right_kernel_matrix(algorithm='default', basis='computed')\n",
    "\n",
    "p = W.dimension()\n",
    "q = W_perp.nrows()"
   ]
  },
  {
   "cell_type": "code",
   "execution_count": 80,
   "metadata": {},
   "outputs": [],
   "source": [
    "dimV = binomial(N + d - 1, d)\n",
    "V = VectorSpace(QQ, dimV, sparse=True)\n",
    "\n",
    "i = 0\n",
    "elem = 0\n",
    "lst = []\n",
    "while i < N*d:\n",
    "    lst.append(indeterminates[elem])\n",
    "    i += 1\n",
    "    if i % d == 0:\n",
    "        elem += 1\n",
    "\n",
    "C = Combinations(lst, d)"
   ]
  },
  {
   "cell_type": "code",
   "execution_count": 76,
   "metadata": {},
   "outputs": [
    {
     "ename": "AttributeError",
     "evalue": "'dict' object has no attribute 'add'",
     "output_type": "error",
     "traceback": [
      "\u001b[0;31m---------------------------------------------------------------------------\u001b[0m",
      "\u001b[0;31mAttributeError\u001b[0m                            Traceback (most recent call last)",
      "\u001b[0;32m<ipython-input-76-562f86bb818b>\u001b[0m in \u001b[0;36m<module>\u001b[0;34m\u001b[0m\n\u001b[1;32m     12\u001b[0m             \u001b[0;32mfor\u001b[0m \u001b[0mk\u001b[0m \u001b[0;32min\u001b[0m \u001b[0mE_action_fl\u001b[0m\u001b[0;34m[\u001b[0m\u001b[0mi\u001b[0m\u001b[0;34m]\u001b[0m\u001b[0;34m[\u001b[0m\u001b[0mj\u001b[0m\u001b[0;34m]\u001b[0m\u001b[0;34m.\u001b[0m\u001b[0mdict\u001b[0m\u001b[0;34m(\u001b[0m\u001b[0;34m)\u001b[0m\u001b[0;34m:\u001b[0m\u001b[0;34m\u001b[0m\u001b[0;34m\u001b[0m\u001b[0m\n\u001b[1;32m     13\u001b[0m                 \u001b[0;32mif\u001b[0m \u001b[0mk\u001b[0m \u001b[0;32mnot\u001b[0m \u001b[0;32min\u001b[0m \u001b[0mmonomial_set\u001b[0m\u001b[0;34m:\u001b[0m\u001b[0;34m\u001b[0m\u001b[0;34m\u001b[0m\u001b[0m\n\u001b[0;32m---> 14\u001b[0;31m                     \u001b[0mmonomial_set\u001b[0m\u001b[0;34m.\u001b[0m\u001b[0madd\u001b[0m\u001b[0;34m(\u001b[0m\u001b[0mk\u001b[0m\u001b[0;34m)\u001b[0m\u001b[0;34m\u001b[0m\u001b[0;34m\u001b[0m\u001b[0m\n\u001b[0m\u001b[1;32m     15\u001b[0m \u001b[0;34m\u001b[0m\u001b[0m\n\u001b[1;32m     16\u001b[0m \u001b[0;34m\u001b[0m\u001b[0m\n",
      "\u001b[0;31mAttributeError\u001b[0m: 'dict' object has no attribute 'add'"
     ]
    }
   ],
   "source": [
    "def E_action(a, b, grad_fl):\n",
    "    sumh = -1*indeterminates[b]*grad_fl[a]\n",
    "    return R(sumh)\n",
    "\n",
    "grad_fl = [f[0].gradient(), f[1].gradient()]\n",
    "\n",
    "for l in range(2):\n",
    "    E_action_fl = [[0 for j in range(N)] for i in range(N)]\n",
    "    for i in range(N):\n",
    "        for j in range(N):\n",
    "            E_action_fl[i][j] = E_action(i,j,grad_fl[l])\n",
    "            for k in E_action_fl[i][j].dict():\n",
    "                if k not in monomial_set:\n",
    "                    monomial_set.add(k)\n",
    "\n",
    "        \n",
    "print(len(monomial_set))"
   ]
  },
  {
   "cell_type": "code",
   "execution_count": 109,
   "metadata": {},
   "outputs": [
    {
     "name": "stdout",
     "output_type": "stream",
     "text": [
      "[210, 210, 210, 210, 210, 210]\n",
      "{'x_0000': 0, 'x_0001': 1, 'x_0002': 2, 'x_0010': 3, 'x_0011': 4, 'x_0012': 5, 'x_0020': 6, 'x_0021': 7, 'x_0022': 8, 'x_0100': 9, 'x_0101': 10, 'x_0102': 11, 'x_0110': 12, 'x_0111': 13, 'x_0112': 14, 'x_0120': 15, 'x_0121': 16, 'x_0122': 17, 'x_1000': 18, 'x_1001': 19, 'x_1002': 20, 'x_1010': 21, 'x_1011': 22, 'x_1012': 23, 'x_1020': 24, 'x_1021': 25, 'x_1022': 26, 'x_1100': 27, 'x_1101': 28, 'x_1102': 29, 'x_1110': 30, 'x_1111': 31, 'x_1112': 32, 'x_1120': 33, 'x_1121': 34, 'x_1122': 35}\n",
      "6300\n"
     ]
    }
   ],
   "source": [
    "\n",
    "x = [C.mset.index(i) for i in [x_1122,x_1122,x_1122,x_1122,x_1122,x_1122]]\n",
    "print(x)\n",
    "\n",
    "\n",
    "print(vars_smaller)\n",
    "for monomial in [x_1122*x_1122*x_1122*x_1122*x_1122*x_1122]:\n",
    "    s = 0\n",
    "    for i, variable in enumerate(monomial.variables()):\n",
    "        if i != 5: \n",
    "            s = s + vars_smaller[str(variable)]*36*(6-i-1)\n",
    "        else:\n",
    "            s = s + vars_smaller[str(variable)]\n",
    "    print(s)\n",
    "        "
   ]
  },
  {
   "cell_type": "code",
   "execution_count": null,
   "metadata": {},
   "outputs": [],
   "source": []
  },
  {
   "cell_type": "code",
   "execution_count": 15,
   "metadata": {},
   "outputs": [
    {
     "name": "stdout",
     "output_type": "stream",
     "text": [
      "expected: 23\n"
     ]
    }
   ],
   "source": [
    "print('expected:', sum([ni^2-1 for ni in n]) + 1)"
   ]
  },
  {
   "cell_type": "code",
   "execution_count": null,
   "metadata": {},
   "outputs": [],
   "source": []
  }
 ],
 "metadata": {
  "kernelspec": {
   "display_name": "SageMath 9.2",
   "language": "sage",
   "name": "sagemath"
  },
  "language_info": {
   "codemirror_mode": {
    "name": "ipython",
    "version": 3
   },
   "file_extension": ".py",
   "mimetype": "text/x-python",
   "name": "python",
   "nbconvert_exporter": "python",
   "pygments_lexer": "ipython3",
   "version": "3.7.7"
  }
 },
 "nbformat": 4,
 "nbformat_minor": 4
}
