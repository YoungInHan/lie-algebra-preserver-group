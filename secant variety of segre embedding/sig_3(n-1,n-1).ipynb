{
 "cells": [
  {
   "cell_type": "code",
   "execution_count": 1,
   "metadata": {},
   "outputs": [
    {
     "ename": "ModuleNotFoundError",
     "evalue": "No module named 'sparse_vector'",
     "output_type": "error",
     "traceback": [
      "\u001b[0;31m---------------------------------------------------------------------------\u001b[0m",
      "\u001b[0;31mModuleNotFoundError\u001b[0m                       Traceback (most recent call last)",
      "Input \u001b[0;32mIn [1]\u001b[0m, in \u001b[0;36m<cell line: 2>\u001b[0;34m()\u001b[0m\n\u001b[1;32m      1\u001b[0m \u001b[38;5;28;01mimport\u001b[39;00m \u001b[38;5;21;01mnumpy\u001b[39;00m \u001b[38;5;28;01mas\u001b[39;00m \u001b[38;5;21;01mnp\u001b[39;00m\n\u001b[0;32m----> 2\u001b[0m \u001b[38;5;28;01mfrom\u001b[39;00m \u001b[38;5;21;01msparse_vector\u001b[39;00m \u001b[38;5;28;01mimport\u001b[39;00m \u001b[38;5;241m*\u001b[39m\n\u001b[1;32m      3\u001b[0m \u001b[38;5;28;01mfrom\u001b[39;00m \u001b[38;5;21;01mvector_polynomial_isomorphism\u001b[39;00m \u001b[38;5;28;01mimport\u001b[39;00m \u001b[38;5;241m*\u001b[39m\n",
      "\u001b[0;31mModuleNotFoundError\u001b[0m: No module named 'sparse_vector'"
     ]
    }
   ],
   "source": [
    "import numpy as np\n",
    "from sparse_vector import *\n",
    "from vector_polynomial_isomorphism import *"
   ]
  },
  {
   "cell_type": "markdown",
   "metadata": {},
   "source": [
    "We note that we are using the base field `QQ` for all computations currently"
   ]
  },
  {
   "cell_type": "code",
   "execution_count": 2,
   "metadata": {
    "scrolled": false
   },
   "outputs": [
    {
     "name": "stdout",
     "output_type": "stream",
     "text": [
      "Defining y_11, y_12, y_13, y_21, y_22, y_23, y_31, y_32, y_33\n"
     ]
    },
    {
     "ename": "NameError",
     "evalue": "name 'vector_polynomial_isomorphism' is not defined",
     "output_type": "error",
     "traceback": [
      "\u001b[0;31m---------------------------------------------------------------------------\u001b[0m",
      "\u001b[0;31mNameError\u001b[0m                                 Traceback (most recent call last)",
      "Input \u001b[0;32mIn [2]\u001b[0m, in \u001b[0;36m<cell line: 14>\u001b[0;34m()\u001b[0m\n\u001b[1;32m     11\u001b[0m V \u001b[38;5;241m=\u001b[39m VectorSpace(QQ, dimV)\n\u001b[1;32m     12\u001b[0m glN \u001b[38;5;241m=\u001b[39m MatrixSpace(QQ, N)\n\u001b[0;32m---> 14\u001b[0m vp_iso \u001b[38;5;241m=\u001b[39m \u001b[43mvector_polynomial_isomorphism\u001b[49m(R, V, indeterminates, d)\n",
      "\u001b[0;31mNameError\u001b[0m: name 'vector_polynomial_isomorphism' is not defined"
     ]
    }
   ],
   "source": [
    "# Let us initialize constants and vector spaces.\n",
    "\n",
    "N = 9\n",
    "n = 3\n",
    "d = 3\n",
    "indeterminates = [var(\"y_%d%d\" % ((i+1),(j+1))) for i in range(n) for j in range(n)]\n",
    "R = PolynomialRing(QQ, indeterminates)\n",
    "R.inject_variables()\n",
    "\n",
    "dimV = binomial(N + d - 1, d)\n",
    "V = VectorSpace(QQ, dimV)\n",
    "glN = MatrixSpace(QQ, N)\n",
    "\n",
    "vp_iso = vector_polynomial_isomorphism(R, V, indeterminates, d)"
   ]
  },
  {
   "cell_type": "markdown",
   "metadata": {},
   "source": [
    "Note $\\hat{\\sigma_{r}}(\\mathbb{P}^{n-1} \\times \\mathbb{P}^{n-1}) = \\mathbb{V}( (r+1)\\times(r+1) \\text{ minors})$"
   ]
  },
  {
   "cell_type": "code",
   "execution_count": 3,
   "metadata": {
    "scrolled": true
   },
   "outputs": [],
   "source": [
    "# Let us inititalize the list of polynomials, f\n",
    "# In our case, r=3.\n",
    "\n",
    "M = MatrixSpace(R, n)\n",
    "A = M(np.array(indeterminates).reshape(-1,n))\n",
    "if n <= 3:\n",
    "    f = [R(A.determinant())]\n",
    "else:\n",
    "    f = A.minors(4)\n",
    "    \n",
    "grad_f = [fi.gradient() for fi in f]"
   ]
  },
  {
   "cell_type": "code",
   "execution_count": 4,
   "metadata": {
    "scrolled": false
   },
   "outputs": [],
   "source": [
    "# action of basis matrix E_ab in glN onto homogeneous polynomial f[i]\n",
    "def E_action(a, b, i):\n",
    "    sum = -1*indeterminates[b]*grad_f[i][a]\n",
    "    return R(sum)"
   ]
  },
  {
   "cell_type": "code",
   "execution_count": 5,
   "metadata": {},
   "outputs": [
    {
     "name": "stdout",
     "output_type": "stream",
     "text": [
      "Vector space of degree 3876 and dimension 1 over Rational Field\n",
      "Basis matrix:\n",
      "1 x 3876 dense matrix over Rational Field\n"
     ]
    }
   ],
   "source": [
    "# W = span{f}\n",
    "\n",
    "f_vec = [vp_iso.polynomial_to_vector(fi) for fi in f]\n",
    "W = V.subspace(f_vec)\n",
    "\n",
    "print(W)\n",
    "p = W.dimension()"
   ]
  },
  {
   "cell_type": "code",
   "execution_count": 6,
   "metadata": {
    "scrolled": true
   },
   "outputs": [
    {
     "name": "stdout",
     "output_type": "stream",
     "text": [
      "Vector space of degree 3876 and dimension 3875 over Rational Field\n",
      "Basis matrix:\n",
      "3875 x 3876 dense matrix over Rational Field\n"
     ]
    }
   ],
   "source": [
    "\n",
    "W_perp = W.complement()\n",
    "\n",
    "print(W_perp)\n",
    "\n",
    "g = W_perp.basis()\n",
    "q = W_perp.dimension()"
   ]
  },
  {
   "cell_type": "markdown",
   "metadata": {},
   "source": [
    "We note `M_f` $:= \\tilde{M}_f$"
   ]
  },
  {
   "cell_type": "code",
   "execution_count": 7,
   "metadata": {
    "scrolled": true
   },
   "outputs": [],
   "source": [
    "# Pre-processing memoization of entries of M_f\n",
    "\n",
    "# E_action_f[l][i][j] = (E_ij)(f_l)\n",
    "E_action_f = [[[sparsify(vp_iso.polynomial_to_vector(E_action(i,j,l))) for i in range(N)] for j in range(N)] for l in range(p)]\n",
    "\n",
    "# convert g to sparse representation\n",
    "g_sparse = [sparsify(g[i]) for i in range(q)]"
   ]
  },
  {
   "cell_type": "code",
   "execution_count": 8,
   "metadata": {},
   "outputs": [
    {
     "name": "stdout",
     "output_type": "stream",
     "text": [
      "rank(M_f) = 225\n",
      "dim(ker(M_f)) = 31\n",
      "2*(n^2)-1 = 31\n"
     ]
    }
   ],
   "source": [
    "\n",
    "# Construct M_f\n",
    "M_f = zero_matrix(QQ, p*q, N^2)\n",
    "for l in range(p):\n",
    "    for k in range(q):\n",
    "        for i in range(N):\n",
    "            for j in range(N):\n",
    "                M_f[(p*l) + k,(N*i) + j] = sparse_inner_product(E_action_f[l][i][j], g_sparse[k])\n",
    "\n",
    "print('rank(M_f) =', M_f.rank())\n",
    "print('dim(ker(M_f)) =', glN.dimension() - M_f.rank())\n",
    "print('2*(n^2)-1 =', 2*(N)-1)"
   ]
  },
  {
   "cell_type": "code",
   "execution_count": 12,
   "metadata": {},
   "outputs": [],
   "source": [
    "## TESTING\n",
    "\n",
    "kern = M_f.right_kernel().basis()\n",
    "\n",
    "def X_action(X, f):\n",
    "    grad_test = f.gradient()\n",
    "    sum = 0\n",
    "    for a in range(N):\n",
    "        for b in range(N):\n",
    "            sum += -X[N*a + b]*indeterminates[b]*grad_test[a]\n",
    "    return R(sum)\n",
    "\n",
    "for i in range(1):\n",
    "    for j in range(q):\n",
    "        X = kern[0]\n",
    "        test = vp_iso.polynomial_to_vector(X_action(X,f[i])).inner_product(g[j])\n",
    "        if test != 0:\n",
    "            print(i, j)\n",
    "            print(test)\n",
    "            print(X_action(X,f[i]))\n",
    "            print(vp_iso.vector_to_polynomial(g[j]))\n",
    "            print(sparsify(vp_iso.polynomial_to_vector(X_action(X,f[i]))))\n",
    "            print(sparsify(g[j]))\n",
    "            print(sparse_inner_product(sparsify(g[j]),sparsify(vp_iso.polynomial_to_vector(X_action(X,f[i])))))"
   ]
  },
  {
   "cell_type": "code",
   "execution_count": null,
   "metadata": {},
   "outputs": [],
   "source": []
  }
 ],
 "metadata": {
  "kernelspec": {
   "display_name": "SageMath 9.7",
   "language": "sage",
   "name": "sagemath-9.7"
  },
  "language_info": {
   "codemirror_mode": {
    "name": "ipython",
    "version": 3
   },
   "file_extension": ".py",
   "mimetype": "text/x-python",
   "name": "python",
   "nbconvert_exporter": "python",
   "pygments_lexer": "ipython3",
   "version": "3.10.5"
  }
 },
 "nbformat": 4,
 "nbformat_minor": 4
}
