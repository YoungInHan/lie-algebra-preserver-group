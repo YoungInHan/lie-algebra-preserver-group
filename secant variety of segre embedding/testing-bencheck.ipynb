{
 "cells": [
  {
   "cell_type": "code",
   "execution_count": 87,
   "metadata": {},
   "outputs": [],
   "source": [
    "import numpy as np\n",
    "import sys\n",
    "sys.path.append('../')\n",
    "from utils.sparse_vector import *\n",
    "from utils.vector_polynomial_isomorphism import *\n",
    "from utils.minor_flattening import *"
   ]
  },
  {
   "cell_type": "code",
   "execution_count": 88,
   "metadata": {
    "scrolled": true
   },
   "outputs": [
    {
     "name": "stdout",
     "output_type": "stream",
     "text": [
      "Defining x_000, x_001, x_002, x_010, x_011, x_012, x_020, x_021, x_022, x_100, x_101, x_102, x_110, x_111, x_112, x_120, x_121, x_122\n"
     ]
    }
   ],
   "source": [
    "# Let us initialize constants and vector spaces.\n",
    "\n",
    "N = 2*3*3\n",
    "n = [2,3,3]\n",
    "d = 3\n",
    "indeterminates = form_indeterminates(n)\n",
    "R = PolynomialRing(QQ, indeterminates)\n",
    "R.inject_variables()\n",
    "\n",
    "glN = MatrixSpace(QQ, N)"
   ]
  },
  {
   "cell_type": "code",
   "execution_count": 89,
   "metadata": {},
   "outputs": [],
   "source": [
    "def E_action(a, b, grad_fl):\n",
    "    sumh = -1*indeterminates[b]*grad_fl[a]\n",
    "    return R(sumh)"
   ]
  },
  {
   "cell_type": "code",
   "execution_count": 90,
   "metadata": {},
   "outputs": [],
   "source": [
    "f = get_flattening_minors(R, n, d)\n",
    "monomial_to_index = {}\n",
    "\n",
    "# create (monomial => index) mapping for the monomials in all f_i\n",
    "for fi in f:\n",
    "    for mon in fi.monomials():\n",
    "        if mon not in monomial_to_index:\n",
    "            monomial_to_index[mon] = len(monomial_to_index)\n",
    "            \n",
    "# create vector space span{monomials in f_i}\n",
    "dim_V_small = len(monomial_to_index)\n",
    "V_small = VectorSpace(QQ, dim_V_small, sparse=True)\n",
    "            \n",
    "# add in monomials that are in span{monomials of Xf_i} to the (monomial => index) mapping\n",
    "for fl in f:\n",
    "    grad_fl = fl.gradient()\n",
    "    for i in range(N):\n",
    "        for j in range(N):\n",
    "            E_action_fl_ij = E_action(i,j,grad_fl)\n",
    "            for mon in E_action_fl_ij.monomials():\n",
    "                if mon not in monomial_to_index:\n",
    "                    monomial_to_index[mon] = len(monomial_to_index)\n",
    "\n",
    "# convert f_i into vectors inside V_small\n",
    "f_vec = []\n",
    "for fi in f:\n",
    "    fi_vec = [0]*dim_V_small\n",
    "    for mon in fi.monomials():\n",
    "        idx = monomial_to_index[mon]\n",
    "        fi_vec[idx] = fi.coefficient(mon)\n",
    "    f_vec.append(V_small(fi_vec))"
   ]
  },
  {
   "cell_type": "code",
   "execution_count": 91,
   "metadata": {},
   "outputs": [
    {
     "name": "stdout",
     "output_type": "stream",
     "text": [
      "p= 36 q= 156 dim_V_small= 192\n"
     ]
    }
   ],
   "source": [
    "# create W = span{f_i} inside V_small. W_perp is its orthogonal complement inside this small vector space\n",
    "W = V_small.subspace(f_vec)\n",
    "W_perp = W.basis_matrix().right_kernel_matrix(algorithm='default', basis='computed')\n",
    "\n",
    "p = W.dimension()\n",
    "q = W_perp.nrows()\n",
    "\n",
    "print('p=', p, 'q=', q, 'dim_V_small=', dim_V_small)"
   ]
  },
  {
   "cell_type": "code",
   "execution_count": 92,
   "metadata": {
    "scrolled": true
   },
   "outputs": [],
   "source": [
    "# create sparse basis vectors for orthogonal complement in V_small\n",
    "g_sparse = [sparsify(W_perp[k]) for k in range(q)]\n",
    "\n",
    "# add g_i's to include into {monomials of fi}U{monomials of Xfi} by adding standard basis vectors in coordinates outside V_small\n",
    "for i in range(dim_V_small, len(monomial_to_index)):\n",
    "    v = [(i, 1)]\n",
    "    g_sparse.append(v)\n",
    "\n",
    "q = len(g_sparse)"
   ]
  },
  {
   "cell_type": "code",
   "execution_count": 93,
   "metadata": {},
   "outputs": [],
   "source": [
    "def polyomial_to_sparsevector(p):\n",
    "    ans = []\n",
    "    for mon in p.monomials():\n",
    "        ans.append((monomial_to_index[mon], p.coefficient(mon)))\n",
    "    return ans\n",
    "\n",
    "E_action_fl = [[0 for j in range(N)] for i in range(N)]\n",
    "\n",
    "M_f = zero_matrix(QQ, p*q, N^2, sparse = True)\n",
    "for l in range(p):\n",
    "    grad_fl = f[l].gradient()\n",
    "    for i in range(N):\n",
    "        for j in range(N):\n",
    "            E_action_fl[i][j] = polyomial_to_sparsevector(E_action(i,j,grad_fl))\n",
    "    for k in range(q):\n",
    "        for i in range(N):\n",
    "            for j in range(N):\n",
    "                M_f[(q*l) + k,(N*i) + j] = sparse_inner_product(E_action_fl[i][j], g_sparse[k])"
   ]
  },
  {
   "cell_type": "code",
   "execution_count": 94,
   "metadata": {},
   "outputs": [
    {
     "name": "stdout",
     "output_type": "stream",
     "text": [
      "rank(M_f) = 324\n",
      "dim(ker(M_f)) = 0\n"
     ]
    }
   ],
   "source": [
    "rank = M_f.rank()\n",
    "\n",
    "print('rank(M_f) =', rank)\n",
    "print('dim(ker(M_f)) =', glN.dimension() - rank)"
   ]
  },
  {
   "cell_type": "code",
   "execution_count": 95,
   "metadata": {},
   "outputs": [
    {
     "name": "stdout",
     "output_type": "stream",
     "text": [
      "expected: 20\n"
     ]
    }
   ],
   "source": [
    "print('expected:', sum([ni^2-1 for ni in n]) + 1)"
   ]
  },
  {
   "cell_type": "code",
   "execution_count": null,
   "metadata": {},
   "outputs": [],
   "source": []
  }
 ],
 "metadata": {
  "kernelspec": {
   "display_name": "SageMath 9.2",
   "language": "sage",
   "name": "sagemath"
  },
  "language_info": {
   "codemirror_mode": {
    "name": "ipython",
    "version": 3
   },
   "file_extension": ".py",
   "mimetype": "text/x-python",
   "name": "python",
   "nbconvert_exporter": "python",
   "pygments_lexer": "ipython3",
   "version": "3.7.7"
  }
 },
 "nbformat": 4,
 "nbformat_minor": 4
}
