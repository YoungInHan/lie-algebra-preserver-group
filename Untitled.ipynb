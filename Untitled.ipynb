{
 "cells": [
  {
   "cell_type": "code",
   "execution_count": 17,
   "metadata": {},
   "outputs": [
    {
     "name": "stdout",
     "output_type": "stream",
     "text": [
      "[ c  s  0  0]\n",
      "[-s  c  0  0]\n",
      "[ 0  0  1  0]\n",
      "[ 0  0  0  1]\n",
      "fdas\n",
      "[ 1  0  0  0]\n",
      "[ 0  c  s  0]\n",
      "[ 0 -s  c  0]\n",
      "[ 0  0  0  1]\n",
      "-\n",
      "[ 1  0  0  0]\n",
      "[ 0  1  0  0]\n",
      "[ 0  0  c  s]\n",
      "[ 0  0 -s  c]\n",
      "[    c   c*s c*s^2   s^3]\n",
      "[   -s   c^2 c^2*s c*s^2]\n",
      "[    0    -s   c^2   c*s]\n",
      "[    0     0    -s     c]\n"
     ]
    }
   ],
   "source": [
    "c = var('c')\n",
    "s = var('s')\n",
    "a11 = var('a11')\n",
    "a12 = var('a12')\n",
    "a13 = var('a13')\n",
    "a14 = var('a14')\n",
    "a21 = var('a21')\n",
    "a22 = var('a22')\n",
    "a23 = var('a23')\n",
    "a24 = var('a24')\n",
    "a31 = var('a31')\n",
    "a32 = var('a32')\n",
    "a33 = var('a33')\n",
    "a34 = var('a34')\n",
    "a41 = var('a41')\n",
    "a42 = var('a42')\n",
    "a43 = var('a43')\n",
    "a44 = var('a44')\n",
    "\n",
    "M1 = matrix([[c,s,0,0], [-s,c,0,0], [0,0,1,0], [0,0,0,1]])\n",
    "M2 = matrix([[1,0,0,0], [0,c,s,0], [0,-s,c,0], [0,0,0,1]])\n",
    "M3 = matrix([[1,0,0,0], [0,1,0,0], [0,0,c,s], [0,0,-s,c]])\n",
    "A = matrix([[a11,a12,0,0], [a21,a22,a23,0], [0,a32,a33,a34], [0,0,a43,a44]])\n",
    "print(M1)\n",
    "print('fdas')\n",
    "print(M2)\n",
    "print('-')\n",
    "print(M3)\n",
    "\n",
    "print(M1*M2*M3)"
   ]
  },
  {
   "cell_type": "code",
   "execution_count": null,
   "metadata": {},
   "outputs": [],
   "source": []
  }
 ],
 "metadata": {
  "kernelspec": {
   "display_name": "SageMath 9.2",
   "language": "sage",
   "name": "sagemath"
  },
  "language_info": {
   "codemirror_mode": {
    "name": "ipython",
    "version": 3
   },
   "file_extension": ".py",
   "mimetype": "text/x-python",
   "name": "python",
   "nbconvert_exporter": "python",
   "pygments_lexer": "ipython3",
   "version": "3.7.7"
  }
 },
 "nbformat": 4,
 "nbformat_minor": 4
}
